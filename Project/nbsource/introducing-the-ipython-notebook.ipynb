{
 "metadata": {
  "name": ""
 },
 "nbformat": 3,
 "nbformat_minor": 0,
 "worksheets": [
  {
   "cells": [
    {
     "cell_type": "markdown",
     "metadata": {},
     "source": [
      "Source notebook for lesson \u201cIntroducing the IPython Notebook\u201d. Source located in `nbsource/introducing-the-ipython-notebook.ipynb`. Created automatically by sanity on 2014-03-05 at 04:03:51.815314."
     ]
    }
   ],
   "metadata": {}
  }
 ]
}