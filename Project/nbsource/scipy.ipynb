{
 "metadata": {
  "name": ""
 },
 "nbformat": 3,
 "nbformat_minor": 0,
 "worksheets": [
  {
   "cells": [
    {
     "cell_type": "markdown",
     "metadata": {},
     "source": [
      "Source notebook for lesson \u201cSciPy\u201d. Source located in `nbsource/scipy.ipynb`. Created automatically by sanity on 2014-03-05 at 04:03:52.195830."
     ]
    }
   ],
   "metadata": {}
  }
 ]
}