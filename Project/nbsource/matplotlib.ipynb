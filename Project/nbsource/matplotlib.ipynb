{
 "metadata": {
  "name": ""
 },
 "nbformat": 3,
 "nbformat_minor": 0,
 "worksheets": [
  {
   "cells": [
    {
     "cell_type": "markdown",
     "metadata": {},
     "source": [
      "Source notebook for lesson \u201cmatplotlib\u201d. Source located in `nbsource/matplotlib.ipynb`. Created automatically by sanity on 2014-03-05 at 04:03:52.215435."
     ]
    }
   ],
   "metadata": {}
  }
 ]
}