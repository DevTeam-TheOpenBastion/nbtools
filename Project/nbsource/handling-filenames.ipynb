{
 "metadata": {
  "name": ""
 },
 "nbformat": 3,
 "nbformat_minor": 0,
 "worksheets": [
  {
   "cells": [
    {
     "cell_type": "heading",
     "level": 1,
     "metadata": {},
     "source": [
      "<!---pragma web video --->\n",
      "Double-Line Heading"
     ]
    },
    {
     "cell_type": "code",
     "collapsed": false,
     "input": [
      "# This is some code. Or will be, eventually"
     ],
     "language": "python",
     "metadata": {},
     "outputs": [],
     "prompt_number": 1
    },
    {
     "cell_type": "code",
     "collapsed": false,
     "input": [
      "# This is more code."
     ],
     "language": "python",
     "metadata": {},
     "outputs": [],
     "prompt_number": 2
    },
    {
     "cell_type": "markdown",
     "metadata": {},
     "source": [
      "<!--- pragma web --->\n",
      "And here's a bit of markdown just for giggles. This should only appear in the web version (as befits extended commentary). I suppose that one day everything is going to work. Right now there are interesting contrasts to be drawn between manipulating notebooks as a data structure and using templating techniques on their string representations. Both approaches have advantages, and I see no current reason to prefer one to the other.\n",
      "\n",
      "From current experience I suspect I will find that templating is fine for relatively simple value substitutions (title, date and time of creation, that sort of stuff) but that mainputating the data structure is preferable where use of templating would require the creating of ill-formed notebooks. The point here is that notebook templates should be editable within the standard notbook framework formats. Since the manipulations will require task-specific instructions, I plan to incorporate those in pragmas at the start of cells."
     ]
    },
    {
     "cell_type": "code",
     "collapsed": false,
     "input": [
      "#pragma web video\n",
      "# This is some code that should appear both on the web\n",
      "# and in the teaching notebooks (to be copy-and-pasted)"
     ],
     "language": "python",
     "metadata": {},
     "outputs": [],
     "prompt_number": 2
    },
    {
     "cell_type": "code",
     "collapsed": false,
     "input": [
      "#pragma web"
     ],
     "language": "python",
     "metadata": {},
     "outputs": []
    }
   ],
   "metadata": {}
  }
 ]
}