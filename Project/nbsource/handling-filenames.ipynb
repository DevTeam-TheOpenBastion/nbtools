{
 "metadata": {
  "name": ""
 },
 "nbformat": 3,
 "nbformat_minor": 0,
 "worksheets": [
  {
   "cells": [
    {
     "cell_type": "heading",
     "level": 2,
     "metadata": {},
     "source": [
      "<!---pragma tags:web,video Author:\"Steve Holden\" --->\n",
      "Paths are Platform-Dependent"
     ]
    },
    {
     "cell_type": "markdown",
     "metadata": {},
     "source": [
      "Paths can be absolute or relative. An absolute path refers to the same file no matter what the current working directory, whereas a relative path is conditioned by a process's current working directory (a part of the process state).\n",
      "\n",
      "Most UNIX-like systems use the same sorts of path. Everything is rooted, and a part of the same file system, so absolute paths begin with a slash, like `/home/users/sholden`. Relative paths do not, and effectively have the path of the current working directory prepended to them.\n",
      "\n",
      "Under Windows, however, different disk drives appear as different lettered volumes and the path separator is a backslash, so paths look more like `C:\\inetpub\\wwwroot\\`. The current working directory is a combination of drive letter and path.\n",
      "\n",
      "Windows also occasionally uses what are known as _UNC paths_, which begin with a double backslash. The first component is a host, the second is a share name, and the remainder locate a file or directory within the share. Python does not deal well with UNC paths."
     ]
    },
    {
     "cell_type": "heading",
     "level": 2,
     "metadata": {},
     "source": [
      "The `os` module is where you find the functionality to handle filenames and paths. It has a submodule (`os.path`) which is loaded dynamically when the `os` module is loaded. Normally you will just use the `os.path` module that `os` chooses for you, but should you wish to handle (say) Windows file paths on a Unix system then you can "
     ]
    },
    {
     "cell_type": "code",
     "collapsed": false,
     "input": [
      "import os\n",
      "print(os.getcwd())"
     ],
     "language": "python",
     "metadata": {},
     "outputs": [
      {
       "output_type": "stream",
       "stream": "stdout",
       "text": [
        "/Users/sholden/Projects/Python/intVideos/Project/nbsource\n"
       ]
      }
     ],
     "prompt_number": 1
    },
    {
     "cell_type": "code",
     "collapsed": false,
     "input": [
      "os.chdir(\"..\")\n",
      "print(os.getcwd())\n",
      "os.chdir(\"nbsource\")\n",
      "base_dir = os.getcwd()\n",
      "print(base_dir)"
     ],
     "language": "python",
     "metadata": {},
     "outputs": [
      {
       "output_type": "stream",
       "stream": "stdout",
       "text": [
        "/Users/sholden/Projects/Python/intVideos/Project\n",
        "/Users/sholden/Projects/Python/intVideos/Project/nbsource\n"
       ]
      }
     ],
     "prompt_number": 2
    },
    {
     "cell_type": "code",
     "collapsed": false,
     "input": [
      "from glob import glob\n",
      "print(glob(\"*.ipynb\"))"
     ],
     "language": "python",
     "metadata": {},
     "outputs": [
      {
       "output_type": "stream",
       "stream": "stdout",
       "text": [
        "['handling-filenames.ipynb']\n"
       ]
      }
     ],
     "prompt_number": 3
    },
    {
     "cell_type": "code",
     "collapsed": false,
     "input": [
      "tfn = \"handling-filenames.ipynb\"\n",
      "os.path.exists(tfn), os.path.isdir(tfn), os.path.isfile(tfn)"
     ],
     "language": "python",
     "metadata": {},
     "outputs": [
      {
       "metadata": {},
       "output_type": "pyout",
       "prompt_number": 4,
       "text": [
        "(True, False, True)"
       ]
      }
     ],
     "prompt_number": 4
    },
    {
     "cell_type": "code",
     "collapsed": false,
     "input": [
      "file_path = os.path.join(\"..\", \"data\", \"templates\", \"base.ipynb\")\n",
      "file_path"
     ],
     "language": "python",
     "metadata": {},
     "outputs": [
      {
       "metadata": {},
       "output_type": "pyout",
       "prompt_number": 5,
       "text": [
        "'../data/templates/base.ipynb'"
       ]
      }
     ],
     "prompt_number": 5
    },
    {
     "cell_type": "code",
     "collapsed": false,
     "input": [
      "full_path = os.path.abspath(file_path)\n",
      "full_path"
     ],
     "language": "python",
     "metadata": {},
     "outputs": [
      {
       "metadata": {},
       "output_type": "pyout",
       "prompt_number": 6,
       "text": [
        "'/Users/sholden/Projects/Python/intVideos/Project/data/templates/base.ipynb'"
       ]
      }
     ],
     "prompt_number": 6
    },
    {
     "cell_type": "code",
     "collapsed": false,
     "input": [
      "os.path.split(full_path)"
     ],
     "language": "python",
     "metadata": {},
     "outputs": [
      {
       "metadata": {},
       "output_type": "pyout",
       "prompt_number": 7,
       "text": [
        "('/Users/sholden/Projects/Python/intVideos/Project/data/templates',\n",
        " 'base.ipynb')"
       ]
      }
     ],
     "prompt_number": 7
    },
    {
     "cell_type": "code",
     "collapsed": false,
     "input": [
      "os.path.dirname(full_path), os.path.basename(full_path)"
     ],
     "language": "python",
     "metadata": {},
     "outputs": [
      {
       "metadata": {},
       "output_type": "pyout",
       "prompt_number": 8,
       "text": [
        "('/Users/sholden/Projects/Python/intVideos/Project/data/templates',\n",
        " 'base.ipynb')"
       ]
      }
     ],
     "prompt_number": 8
    },
    {
     "cell_type": "code",
     "collapsed": false,
     "input": [
      "dir_path, file_name = os.path.split(full_path)\n",
      "os.path.splitext(file_name)"
     ],
     "language": "python",
     "metadata": {},
     "outputs": [
      {
       "metadata": {},
       "output_type": "pyout",
       "prompt_number": 9,
       "text": [
        "('base', '.ipynb')"
       ]
      }
     ],
     "prompt_number": 9
    },
    {
     "cell_type": "code",
     "collapsed": false,
     "input": [
      "desktop_dir = os.path.expanduser(\"~/Desktop\")\n",
      "print(\"Your desktop is at\", desktop_dir)\n",
      "print(\"Root's home directory is\", os.path.expanduser(\"~root\"))"
     ],
     "language": "python",
     "metadata": {},
     "outputs": [
      {
       "output_type": "stream",
       "stream": "stdout",
       "text": [
        "Your desktop is at /Users/sholden/Desktop\n",
        "Root's home directory is /var/root\n"
       ]
      }
     ],
     "prompt_number": 10
    },
    {
     "cell_type": "code",
     "collapsed": false,
     "input": [
      "pathlist = os.path.expandvars(\"$PATH\").split(\":\") # semicolon on Windows\n",
      "print(\"Your path is:\")\n",
      "for path in pathlist:\n",
      "    print(\"  \", path)"
     ],
     "language": "python",
     "metadata": {},
     "outputs": [
      {
       "output_type": "stream",
       "stream": "stdout",
       "text": [
        "Your path is:\n",
        "   /Users/sholden/.virtualenvs/intVideos/bin\n",
        "   ~/bin\n",
        "   /usr/local/bin\n",
        "   /usr/local/Cellar/Python/2.7.4/bin\n",
        "   ~/.gem/ruby/1.8/bin\n",
        "   /usr/bin\n",
        "   /bin\n",
        "   /usr/sbin\n",
        "   /sbin\n",
        "   /usr/local/bin\n"
       ]
      }
     ],
     "prompt_number": 20
    },
    {
     "cell_type": "code",
     "collapsed": false,
     "input": [
      "os.stat(full_path)"
     ],
     "language": "python",
     "metadata": {},
     "outputs": [
      {
       "metadata": {},
       "output_type": "pyout",
       "prompt_number": 23,
       "text": [
        "posix.stat_result(st_mode=33188, st_ino=12828073, st_dev=16777218, st_nlink=1, st_uid=502, st_gid=20, st_size=597, st_atime=1393908582, st_mtime=1393894648, st_ctime=1393894648)"
       ]
      }
     ],
     "prompt_number": 23
    },
    {
     "cell_type": "code",
     "collapsed": false,
     "input": [
      "import time"
     ],
     "language": "python",
     "metadata": {},
     "outputs": [],
     "prompt_number": 24
    },
    {
     "cell_type": "code",
     "collapsed": false,
     "input": [
      "def newer(file1, file2):\n",
      "    file1_creation = os.stat(file1).st_ctime\n",
      "    file2_creation = os.stat(file2).st_ctime\n",
      "    return file1_creation > file2_creation\n",
      "\n",
      "r1 = os.system(\"touch /tmp/deleteme.1\")\n",
      "time.sleep(1)\n",
      "r2 = os.system(\"touch /tmp/deleteme.2\")\n",
      "\n",
      "print(newer(\"/tmp/deleteme.1\", \"/tmp/deleteme.2\"), newer(\"/tmp/deleteme.2\", \"/tmp/deleteme.1\"))"
     ],
     "language": "python",
     "metadata": {},
     "outputs": [
      {
       "output_type": "stream",
       "stream": "stdout",
       "text": [
        "False True\n"
       ]
      }
     ],
     "prompt_number": 25
    },
    {
     "cell_type": "code",
     "collapsed": false,
     "input": [
      "files_dirs = os.listdir(os.path.join(base_dir, \"..\"))\n",
      "for name in files_dirs:\n",
      "    if os.path.isdir(name):\n",
      "        print(name+\"/\")\n",
      "    else:\n",
      "        print(name)"
     ],
     "language": "python",
     "metadata": {},
     "outputs": [
      {
       "output_type": "stream",
       "stream": "stdout",
       "text": [
        "data\n",
        "figures\n",
        "nbsource\n",
        "notebooks\n",
        "outline.txt\n",
        "slides\n",
        "tools\n"
       ]
      }
     ],
     "prompt_number": 33
    },
    {
     "cell_type": "markdown",
     "metadata": {},
     "source": [
      "That's got to be six minutes' worth!"
     ]
    }
   ],
   "metadata": {}
  }
 ]
}