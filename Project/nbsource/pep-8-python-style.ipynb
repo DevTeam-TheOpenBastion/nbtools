{
 "metadata": {
  "name": ""
 },
 "nbformat": 3,
 "nbformat_minor": 0,
 "worksheets": [
  {
   "cells": [
    {
     "cell_type": "markdown",
     "metadata": {},
     "source": [
      "Source notebook for lesson \u201cPEP 8 Python Style\u201d. Source located in `nbsource/pep-8-python-style.ipynb`. Created automatically by sanity on 2014-03-05 at 04:03:52.275252."
     ]
    }
   ],
   "metadata": {}
  }
 ]
}