{
 "metadata": {
  "name": ""
 },
 "nbformat": 3,
 "nbformat_minor": 0,
 "worksheets": [
  {
   "cells": [
    {
     "cell_type": "markdown",
     "metadata": {},
     "source": [
      "Source notebook for lesson \u201cAdvanced Slicing\u201d. Source located in `nbsource/advanced-slicing.ipynb`. Created automatically by sanity on 2014-03-05 at 23:32:41.962323."
     ]
    }
   ],
   "metadata": {}
  }
 ]
}