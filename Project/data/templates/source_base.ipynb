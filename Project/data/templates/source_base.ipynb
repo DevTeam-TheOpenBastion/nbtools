{
 "metadata": {
  "name": ""
 },
 "nbformat": 3,
 "nbformat_minor": 0,
 "worksheets": [
  {
   "cells": [
    {
     "cell_type": "markdown",
     "metadata": {},
     "source": [
      "Source notebook for lesson \u201c{{ title }}\u201d. Source located in `{{ src_file }}`. Created automatically by sanity on {{ date }} at {{ time}}."
     ]
    }
   ],
   "metadata": {}
  }
 ]
}