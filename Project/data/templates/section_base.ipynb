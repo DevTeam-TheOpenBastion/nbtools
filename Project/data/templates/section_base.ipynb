{
 "metadata": {
  "name": ""
 },
 "nbformat": 3,
 "nbformat_minor": 0,
 "worksheets": [
  {
   "cells": [
    {
     "cell_type": "markdown",
     "metadata": {},
     "source": [
      "Source notebook for the top-level {{ title }} module. Source locate in {{ src_file }}. Created automatically by sanity on {{ date }} at {{ time}}."
     ]
    },
    {
     "cell_type": "markdown",
     "metadata": {},
     "source": [
      "{% for talk in talks %}\n",
      "[{{ talk.name }}](\"{{ talk.slug }}.ipynb\")  \n",
      "\n",
      "{% endfor %}"
     ]
    }
   ],
   "metadata": {}
  }
 ]
}