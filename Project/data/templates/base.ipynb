{
 "metadata": {
  "name": ""
 },
 "nbformat": 3,
 "nbformat_minor": 0,
 "worksheets": [
  {
   "cells": [
    {
     "cell_type": "heading",
     "level": 1,
     "metadata": {},
     "source": [
      "Intermediate Python: {{ title }} "
     ]
    },
    {
     "cell_type": "raw",
     "metadata": {},
     "source": [
      "#!cells nbsource/{{ slug }}.ipynb"
     ]
    },
    {
     "cell_type": "markdown",
     "metadata": {},
     "source": [
      "This document was created on {{ date }} at {{ time }}."
     ]
    }
   ],
   "metadata": {}
  }
 ]
}