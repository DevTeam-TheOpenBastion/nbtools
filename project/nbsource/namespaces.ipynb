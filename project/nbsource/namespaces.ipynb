{
 "metadata": {
  "name": ""
 },
 "nbformat": 3,
 "nbformat_minor": 0,
 "worksheets": [
  {
   "cells": [
    {
     "cell_type": "markdown",
     "metadata": {},
     "source": [
      "#### __PRE-RELEASE REVIEW: O'Reilly Intermediate Python Video Series__\n",
      "#### Topic: Namespaces \n",
      "Source located in `nbsource/namespaces.ipynb`. Automatically rendered from `UNKNOWN` on 2014-03-21 at 10:21:36.443435.\n",
      "#### AUTOMATICALLY GENERATED TEST NOTEBOOK - CHANGES WILL BE LOST\n",
      "#### To TEST this Notebook<br />1. select Cell | Run All, or step through with Shift/Enter<br />2. Notebook turns pink when testing starts<br />3. It turns white when the it runs to completion.<br />4. Please check the executed notebook for clarity and correctness.<br />Please [raise an issue](https://github.com/holdenweb/intermediate-python/issues) about anything you don't understand - by all means attach a saved copy of the notebook to add explanations or questions. Also please let us know about stuff you want to see covered under any heading in the outline.\n",
      "#### Your comments on the content are also welcome, particularly when [reported as issues](https://github.com/holdenweb/intermediate-python/issues) "
     ]
    },
    {
     "cell_type": "markdown",
     "metadata": {},
     "source": [
      "<img src=\"https://dl.dropboxusercontent.com/u/6117375/intermediate-notebooks/title_graphic.png\" />\n",
      "||| WORKING COPY ||| Namespaces"
     ]
    },
    {
     "cell_type": "markdown",
     "metadata": {},
     "source": [
      "##Namespaces"
     ]
    },
    {
     "cell_type": "markdown",
     "metadata": {},
     "source": [
      "A Python program has a \"global\" namespace, where names are bound by assignments and function definitions within the main body of the program. When you call a function, Python dynamically creates a new namespace and binds the argument values to the parameter names. Assignments made during execution of the function call (normally) result in bindings in the function call (\"local\") namespace. When the function returns, the namespace is automatically destroyed, and any bindings inside the namespace are lost. On occasion, this means that some of the values will no longer have references. When that happens, the memory used to store those values becomes reclaimable as garbage."
     ]
    },
    {
     "cell_type": "markdown",
     "metadata": {},
     "source": [
      "When we write large programs \"monolithically\" (as whole chunks), we may inadvertently use the same name for two different purposes at different places in the program. We can avoid that problem by incorporating the principle of modularity into our work; we'll write programs as collections of small chunks that are relatively independent of one another. This will also make our programs easier to read and understand.\n",
      "\n",
      "With Python, we are able to construct many independent namespaces and handle them separately. The same name can be defined in two different namespaces, because the uses don't collide. When the interpreter looks for the value bound to a particular name, it looks in three specific namespaces. First, it looks in the local namespace (assuming a function call is active). Next, it looks in the global namespace. Finally, it looks in the \"built-in\" namespace, which holds the names of objects that are hard-wired into the Python interpreter, like exceptions and built-in functions."
     ]
    },
    {
     "cell_type": "code",
     "collapsed": false,
     "input": [],
     "language": "python",
     "metadata": {},
     "outputs": []
    }
   ],
   "metadata": {}
  }
 ]
}