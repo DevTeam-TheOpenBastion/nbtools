{
 "metadata": {
  "name": ""
 },
 "nbformat": 3,
 "nbformat_minor": 0,
 "worksheets": [
  {
   "cells": [
    {
     "cell_type": "code",
     "collapsed": false,
     "input": [
      "from IPython.display import Javascript\n",
      "Javascript('''$(\"body\").css(\"background\", \"#F"
     ],
     "language": "python",
     "metadata": {},
     "outputs": [],
     "prompt_number": 2
    },
    {
     "cell_type": "heading",
     "level": 1,
     "metadata": {},
     "source": [
      "<img src=\"files/images/title_graphic.png\" />\n",
      "||| WORKING COPY ||| Encoding from Unicode"
     ]
    },
    {
     "cell_type": "raw",
     "metadata": {},
     "source": [
      "#!content nbsource/encoding-from-unicode.ipynb"
     ]
    },
    {
     "cell_type": "markdown",
     "metadata": {},
     "source": [
      "This document was created on 2014-03-11 at 12:53:21.751442."
     ]
    }
   ],
   "metadata": {}
  }
 ]
}