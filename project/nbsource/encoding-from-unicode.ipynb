{
 "metadata": {
  "name": ""
 },
 "nbformat": 3,
 "nbformat_minor": 0,
 "worksheets": [
  {
   "cells": [
    {
     "cell_type": "heading",
     "level": 1,
     "metadata": {},
     "source": [
      "<img src=\"files/images/title_graphic.png\" />\n",
      "||| WORKING COPY ||| Encoding from Unicode"
     ]
    },
    {
     "cell_type": "markdown",
     "metadata": {},
     "source": [
      "This document was created on 2014-03-11 at 12:53:21.751442."
     ]
    },
    {
     "cell_type": "markdown",
     "metadata": {},
     "source": [
      "When your editing system is capable of handling Unicode (and the IPython Notebook certainly is) you can include Unicode characters directly in your string literals, but not in your byte strings. When you are restricted to the ASCII character set you can still include non-ASCII values by using hexadecimal escape sequences to mimick an encoded Unicode character."
     ]
    },
    {
     "cell_type": "markdown",
     "metadata": {},
     "source": [
      "Trying to include a non-representable character in a bytes literal leads to trouble:"
     ]
    },
    {
     "cell_type": "code",
     "collapsed": false,
     "input": [
      "    b'Please pay \u20ac9.99 at exit'"
     ],
     "language": "python",
     "metadata": {},
     "outputs": [
      {
       "ename": "SyntaxError",
       "evalue": "bytes can only contain ASCII literal characters. (<ipython-input-5-aabe18356dea>, line 1)",
       "output_type": "pyerr",
       "traceback": [
        "\u001b[0;36m  File \u001b[0;32m\"<ipython-input-5-aabe18356dea>\"\u001b[0;36m, line \u001b[0;32m1\u001b[0m\n\u001b[0;31m    b'Please pay \u20ac9.99 at exit'\u001b[0m\n\u001b[0m                               ^\u001b[0m\n\u001b[0;31mSyntaxError\u001b[0m\u001b[0;31m:\u001b[0m bytes can only contain ASCII literal characters.\n"
       ]
      }
     ],
     "prompt_number": 5
    },
    {
     "cell_type": "markdown",
     "metadata": {},
     "source": [
      "The issue here is that each character (or one-byte escape sequence) is supposed to appear in the bytestring as one byte. There is no way to represent the Euro symbol in a single byte. But you _can_ create an ___encoding___ of that string using only the ASCII character set."
     ]
    },
    {
     "cell_type": "code",
     "collapsed": false,
     "input": [
      "b1 = b'Please pay \\xe2\\x82\\xac9.99 at exit'"
     ],
     "language": "python",
     "metadata": {},
     "outputs": [],
     "prompt_number": 8
    },
    {
     "cell_type": "markdown",
     "metadata": {},
     "source": [
      "As discussed elsewhere, for good reasons there are many different encodings, and by using Unicode your programs allow them to work with their favored encodings.\n",
      "\n",
      "You may wonder, if you happen to remember that the euro sign is Unicode code point `0x20ac`, why those bytes don't appear in `b1`. The answer is that the byte string `b1` represents an ___encoding___ of the (Unicode) string `'Please pay \u20ac9.99 at exit'`. Notice the three-byte string `'\\xe2\\x82\\xac'`, which is how the code point is encoded in UTF-8.\n",
      "\n",
      "The question then arises as to how you write text-handling code using Unicode strings, and yet read your  input and write your output to the bytestreams that at base are the only way to communicate with storage devices and network endpoints.\n",
      "\n",
      "The answer is by adopting encodings, but a further complication arises: how do two parties agree on the particular encoding to use? Sometimes people just use the default encoding (which by default is `UTF-8` for Python), and even that policy goes a long way. Some network protocols like HTTP allow headers to specifiy the encoding of some or all of the message content. We will disregard that question from now on.\n",
      "\n",
      "For now we will focus on the question of how you can convert `b1` to the Unicode string `\"Please pay \u20ac9.99 at exit\"`."
     ]
    },
    {
     "cell_type": "code",
     "collapsed": false,
     "input": [],
     "language": "python",
     "metadata": {},
     "outputs": []
    },
    {
     "cell_type": "code",
     "collapsed": false,
     "input": [
      "hex(ord(\"\u20ac\"))"
     ],
     "language": "python",
     "metadata": {},
     "outputs": [
      {
       "metadata": {},
       "output_type": "pyout",
       "prompt_number": 3,
       "text": [
        "'0x20ac'"
       ]
      }
     ],
     "prompt_number": 3
    },
    {
     "cell_type": "code",
     "collapsed": false,
     "input": [],
     "language": "python",
     "metadata": {},
     "outputs": []
    },
    {
     "cell_type": "code",
     "collapsed": false,
     "input": [],
     "language": "python",
     "metadata": {},
     "outputs": []
    },
    {
     "cell_type": "code",
     "collapsed": false,
     "input": [],
     "language": "python",
     "metadata": {},
     "outputs": []
    },
    {
     "cell_type": "code",
     "collapsed": false,
     "input": [],
     "language": "python",
     "metadata": {},
     "outputs": []
    },
    {
     "cell_type": "code",
     "collapsed": false,
     "input": [],
     "language": "python",
     "metadata": {},
     "outputs": []
    }
   ],
   "metadata": {}
  }
 ]
}