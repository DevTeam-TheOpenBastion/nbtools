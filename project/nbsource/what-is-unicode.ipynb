{
 "metadata": {
  "name": ""
 },
 "nbformat": 3,
 "nbformat_minor": 0,
 "worksheets": [
  {
   "cells": [
    {
     "cell_type": "markdown",
     "metadata": {},
     "source": [
      "#### Working Copy: O'Reilly Intermediate Python Video Series\n",
      "##### what is Unicode \n",
      "Source located in `nbsource/what-is-unicode.ipynb`. Automatically rendered from `` by __sanity__ on 2014-03-07 at 02:14:18.127167."
     ]
    },
    {
     "cell_type": "markdown",
     "metadata": {},
     "source": [
      "In Python 3 a lot of effort has gone into making the language useful to as wide a cross-section of the world's population as possible. Since not everyone uses the same alphabet, this means coping with a large variety of different characters\u2014\u2014many more than can be encoded in a single byte, which can store only 256 different values. \n",
      "\n",
      "The solution to these problems is called [_Unicode_[(https://en.wikipedia.org/wiki/Unicode), a system that allows programs to work with a large character set indeed. Unicode should be used to represent any textual material your programs work with. Different communities habitually work with different subsets of the available characters, but theoretically at least it allows (for example) Japanese programmers to work on Hebrew text.\n",
      "\n",
      "While it's all very well to be able to represent such a wide range of characters, for them to be useful you have to be able to show them to the user as well! This means adopting appropriate fonts for your _locale_ so that at least the most common characters will be properly represented. While you will still find that not all fonts are suited to your purposes things have been getting much better over the last ten years."
     ]
    },
    {
     "cell_type": "code",
     "collapsed": false,
     "input": [
      "hex(ord(\"\u20ac\"))"
     ],
     "language": "python",
     "metadata": {},
     "outputs": [
      {
       "metadata": {},
       "output_type": "pyout",
       "prompt_number": 1,
       "text": [
        "'0x20ac'"
       ]
      }
     ],
     "prompt_number": 1
    },
    {
     "cell_type": "code",
     "collapsed": false,
     "input": [
      "\"\\u20ac\""
     ],
     "language": "python",
     "metadata": {},
     "outputs": [
      {
       "metadata": {},
       "output_type": "pyout",
       "prompt_number": 2,
       "text": [
        "'\u20ac'"
       ]
      }
     ],
     "prompt_number": 2
    },
    {
     "cell_type": "code",
     "collapsed": false,
     "input": [],
     "language": "python",
     "metadata": {},
     "outputs": []
    }
   ],
   "metadata": {}
  }
 ]
}