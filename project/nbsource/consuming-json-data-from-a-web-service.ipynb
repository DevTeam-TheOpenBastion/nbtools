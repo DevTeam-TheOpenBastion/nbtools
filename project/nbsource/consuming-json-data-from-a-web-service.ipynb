{
 "metadata": {
  "name": ""
 },
 "nbformat": 3,
 "nbformat_minor": 0,
 "worksheets": [
  {
   "cells": [
    {
     "cell_type": "code",
     "collapsed": false,
     "input": [
      "from IPython.display import Javascript\n",
      "Javascript('''$(\"body\").css(\"background\", \"#F"
     ],
     "language": "python",
     "metadata": {},
     "outputs": [],
     "prompt_number": 2
    },
    {
     "cell_type": "heading",
     "level": 1,
     "metadata": {},
     "source": [
      "<img src=\"files/images/title_graphic.png\" />\n",
      "||| WORKING COPY ||| Consuming JSON Data from a Web Service"
     ]
    },
    {
     "cell_type": "markdown",
     "metadata": {},
     "source": [
      "The [JSON data format](http://www.json.org/) has become a popular way to interchange data. It is more concise than XML, easier for humans to read should they have to, and supported by the ECMA-405 standard. Python comes with a `json` module that operates very like the `pickle` module does. You can convert between JSON strings and Python data structures using the `json.dumps()` method that takes a Python structure argument and returns a JSON string. The converse process is performed by the `json.loads()` method,which takes a JSON string as its argument and returns the corresponding Python data structure.\n",
      "\n",
      "JSON is a useful standard for data interchange of the following (Python) types of data:\n",
      "\n",
      "  * Lists (JSON arrays)\n",
      "  * Dicts (JSON objects)\n",
      "  * Strings (JSON strings)\n",
      "  * Integers (JSON numbers)\n",
      "  * Floating-point values (JSON numbers)\n",
      "  * `True` and `False` (JSON `true` and `false`)\n",
      "  * `None` (JSON `null`)\n",
      "\n",
      "Attempts to encode other Python objects will lead to failure.\n",
      "\n",
      "Let's start by writing a function that round-trips Python structures through the JSON notation."
     ]
    },
    {
     "cell_type": "code",
     "collapsed": false,
     "input": [
      "import json\n",
      "def json_round_trip(structure):\n",
      "    return json.loads(json.dumps(structure))"
     ],
     "language": "python",
     "metadata": {},
     "outputs": [],
     "prompt_number": 1
    },
    {
     "cell_type": "markdown",
     "metadata": {},
     "source": [
      "Looking at the JSON output from `dumps()` shows you that the structure is pretty like a Python data structure made up of lists, dicts and simpler values like lists and strings. Many (but not all!) JSON data structures can be handed to the Python `eval()` function to return the same structure returned by `loads()`. It doesn't do to count on it, though\u2014some values are presented differently, notably `true`, `false` and `null` are the JSON equivalents of `True`, `False` and `None` respectively."
     ]
    },
    {
     "cell_type": "code",
     "collapsed": false,
     "input": [
      "struc1 = [\n",
      " 1,\n",
      " \"string\",\n",
      " [\"l\", \"i\", \"s\", \"t\"],\n",
      " {\n",
      "  \"dict\": \"with\",\n",
      "  \"various\": \"string keys\"\n",
      " }\n",
      "]\n",
      "\n",
      "json_string = json.dumps(struc1)\n",
      "print(json_string)\n",
      "print(eval(json_string))\n",
      "if struc1 == json_round_trip(struc1):\n",
      "    print(\"Round trip succeeded\")"
     ],
     "language": "python",
     "metadata": {},
     "outputs": [
      {
       "output_type": "stream",
       "stream": "stdout",
       "text": [
        "[1, \"string\", [\"l\", \"i\", \"s\", \"t\"], {\"dict\": \"with\", \"various\": \"string keys\"}]\n",
        "[1, 'string', ['l', 'i', 's', 't'], {'dict': 'with', 'various': 'string keys'}]\n",
        "Round trip succeeded\n"
       ]
      }
     ],
     "prompt_number": 5
    },
    {
     "cell_type": "markdown",
     "metadata": {},
     "source": [
      "!!\n",
      "When you pass a type that can't be encoded an exception is raised. You can see JSON does not handle complex numbers, which would therefore have to be stored as two separate numbers, or as objects with a real and a complex field.\n",
      "\n",
      "    json.dumps(3+4j)\n",
      "    ---------------------------------------------------------------------------\n",
      "    TypeError                                 Traceback (most recent call last)\n",
      "    <ipython-input-6-a02050009b26> in <module>()\n",
      "        ...\n",
      "        ... (lots of traceback)\n",
      "        ...\n",
      "    TypeError: (3+4j) is not JSON serializable"
     ]
    },
    {
     "cell_type": "markdown",
     "metadata": {},
     "source": [
      "The `json.load()` and `json.dunp()` functions operate similarly, but instead of producing a string output they take an open file as an argument and pass the data from ans to it respectively."
     ]
    },
    {
     "cell_type": "code",
     "collapsed": false,
     "input": [
      "json.dump(obj, fp, skipkeys=False, ensure_ascii=True,\n",
      "          check_circular=True, allow_nan=True, cls=None,\n",
      "          indent=None, separators=None, default=None, sort_keys=False, **kw)"
     ],
     "language": "python",
     "metadata": {},
     "outputs": []
    },
    {
     "cell_type": "markdown",
     "metadata": {},
     "source": [
      "For more complex encoding and decoding you can use the [`json.JSONencoder` and `json.JSONdecoder`](`json.JSONencoder`) classes. These allow you to establish encodings that can be used to handle non-JSON types, for example. The Encoder's full signature is complex."
     ]
    },
    {
     "cell_type": "code",
     "collapsed": false,
     "input": [
      "decoder = json.JSONEncoder(self, skipkeys=False, ensure_ascii=True,\n",
      "                           check_circular=True, allow_nan=True, sort_keys=False,\n",
      "                           indent=None, separators=None, default=None)"
     ],
     "language": "python",
     "metadata": {},
     "outputs": []
    },
    {
     "cell_type": "markdown",
     "metadata": {},
     "source": [
      "Most of these keyword arguments can safely be omitted. The JSON does not allow the use of `NaN`, `Infinity` and `-Infinity` as a floating-point representation. The `allow_nan` argument extends the standard to permit these three additional floationg-point values."
     ]
    },
    {
     "cell_type": "code",
     "collapsed": false,
     "input": [
      "decoder = json.JSONEncoder(allow_nan=True)\n"
     ],
     "language": "python",
     "metadata": {},
     "outputs": []
    },
    {
     "cell_type": "markdown",
     "metadata": {},
     "source": [
      "This document was created on 2014-03-09 at 15:04:58.964462."
     ]
    }
   ],
   "metadata": {}
  }
 ]
}