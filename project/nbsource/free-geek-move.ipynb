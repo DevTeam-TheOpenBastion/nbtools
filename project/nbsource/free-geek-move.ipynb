{
 "metadata": {
  "name": ""
 },
 "nbformat": 3,
 "nbformat_minor": 0,
 "worksheets": [
  {
   "cells": [
    {
     "cell_type": "markdown",
     "metadata": {},
     "source": [
      "Communications plans have a hierarchy of messages.\n",
      "\n",
      "Relating stories is a good way to get messages across. Digital campaigns rely on a good story told in a pithy way.\n",
      "\n",
      "A campaign will focus on a specific message. Can do A/B testing of different messages. Idea is to keep everyone (internally) on the same messages. Some messages are more relevant some audiences."
     ]
    },
    {
     "cell_type": "code",
     "collapsed": false,
     "input": [],
     "language": "python",
     "metadata": {},
     "outputs": []
    }
   ],
   "metadata": {}
  }
 ]
}