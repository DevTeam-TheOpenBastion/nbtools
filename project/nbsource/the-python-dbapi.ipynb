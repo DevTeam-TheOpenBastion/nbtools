{
 "metadata": {
  "name": ""
 },
 "nbformat": 3,
 "nbformat_minor": 0,
 "worksheets": [
  {
   "cells": [
    {
     "cell_type": "markdown",
     "metadata": {},
     "source": [
      "#### Working Copy: O'Reilly Intermediate Python Video Series\n",
      "##### The Python DBAPI \n",
      "Source located in `nbsource/the-python-dbapi.ipynb`. Automatically rendered from `data/templates/source_base.ipynb` by __sanity__ on 2014-03-07 at 12:22:59.156373."
     ]
    },
    {
     "cell_type": "markdown",
     "metadata": {},
     "source": [
      "Relational databases use a language called the Structured Query Language (abbreviated as SQL) to define data structures, and store and retrieve information. SQL is different from most computer languages in that it is declarative\u2014you don't tell the database how to produce what you want, you simply describe what you want it to do and the database works out how best to do it. Since the data structures and algorithms are complicated, this is a great boon.\n",
      "\n",
      "Database systems are often built as \"client/server\" systems\u2014your program is a client (maybe one of many) of a server program that runs as a separate process, or maybe even on an entirely separate \"database server\" computer. This is not, however, a requirement and Python includes the `sqlite3` module, which creates and uses databases stored in single disk files on your local disk. This is a very convenient way to start learning about databases."
     ]
    },
    {
     "cell_type": "markdown",
     "metadata": {},
     "source": [
      "To connect to a SQLite database you have to call `sqlite3.connect()` with an argument that is the path to the database (which you will remember is a single file). If the file already exists then it will be used as-is."
     ]
    },
    {
     "cell_type": "code",
     "collapsed": false,
     "input": [
      "import sqlite3\n",
      "conn = sqlite3.connect(\"MyDatbase.sql3\")\n",
      "conn"
     ],
     "language": "python",
     "metadata": {},
     "outputs": [
      {
       "metadata": {},
       "output_type": "pyout",
       "prompt_number": 1,
       "text": [
        "<sqlite3.Connection at 0x103fa8c70>"
       ]
      }
     ],
     "prompt_number": 1
    },
    {
     "cell_type": "markdown",
     "metadata": {},
     "source": [
      "Your aren't intended to learn SQL in this section, even though you have to use it to use relational databases at all. We'll present the statements you need to use and explain what each one does as we come to them. Essentially the database maintains dat in tables, which you can think of as made up of rows and columns (the actual structure of the data is well-hidden from database users).\n",
      "\n",
      "The first time you run this notebook you will probably be creating the database. Subsequent runs, however, will connect to the already-created database and so there may well be database objects (principally tables) already existing. The point of a database is to persist data, after all!\n",
      "\n",
      "This does mean, however, that any code you write that creates tables shold be prepared to find them in the database already. Fortunately SQLite allows us to do this quite easily with a DROP IF EXISTS statement that allows you to delete an existing table before re-creating it."
     ]
    },
    {
     "cell_type": "markdown",
     "metadata": {},
     "source": [
      "The first thing you need to do to execute code against the database is to create what's called a _cursor_, which uses the connection to send SQL to the database and read the results. The connection has a method you can use for that."
     ]
    },
    {
     "cell_type": "code",
     "collapsed": false,
     "input": [
      "curs = conn.cursor()\n",
      "curs"
     ],
     "language": "python",
     "metadata": {},
     "outputs": [
      {
       "metadata": {},
       "output_type": "pyout",
       "prompt_number": 2,
       "text": [
        "<sqlite3.Cursor at 0x104cacf10>"
       ]
      }
     ],
     "prompt_number": 2
    },
    {
     "cell_type": "markdown",
     "metadata": {},
     "source": [
      "Now you have a cursor we can use it to access the database. You need to clear the way for your eotk by ensuring that any already existing `publisher` table is removed. "
     ]
    },
    {
     "cell_type": "code",
     "collapsed": false,
     "input": [
      "curs.execute(\"DROP TABLE IF EXISTS publisher\")"
     ],
     "language": "python",
     "metadata": {},
     "outputs": [
      {
       "metadata": {},
       "output_type": "pyout",
       "prompt_number": 3,
       "text": [
        "<sqlite3.Cursor at 0x104cacf10>"
       ]
      }
     ],
     "prompt_number": 3
    },
    {
     "cell_type": "markdown",
     "metadata": {},
     "source": [
      "It's conventional to type SQL keywords in upper case, but lower case is equally acceptable. Layout for SQL statements is very flexible, allowing arbitrary whitespace between tokens. This allows you to write them in a way that keeps them comprehensible and doesn't cause huge long lines in your code."
     ]
    },
    {
     "cell_type": "markdown",
     "metadata": {},
     "source": [
      "To represent text in a way that makes it pleasant for the reader you need to use multi-line string literals (three single quotes or three double quotes as the delimiter). By following the opening delimiter with a newline you can create the block of SQL at any convenient indentation level.\n",
      "\n",
      "Creating a table in SQL requires you to define the data type of each of its columns.\n",
      "\n",
      "Notice carefully that this call doesn't return any data (in fact it just returns the cursor, to allow for a technique called method chaining, which we won't get into here). Now we are sure there is no `publisher` table we can create one. This next statement does just that."
     ]
    },
    {
     "cell_type": "code",
     "collapsed": false,
     "input": [
      "curs.execute(\"\"\"CREATE TABLE publisher(\n",
      "                    pubid INT PRIMARY KEY,\n",
      "                    pubname VARCHAR(25),\n",
      "                    puburl VARCHAR(125))\"\"\")"
     ],
     "language": "python",
     "metadata": {},
     "outputs": [
      {
       "metadata": {},
       "output_type": "pyout",
       "prompt_number": 4,
       "text": [
        "<sqlite3.Cursor at 0x104cacf10>"
       ]
      }
     ],
     "prompt_number": 4
    },
    {
     "cell_type": "markdown",
     "metadata": {},
     "source": [
      "You will note in the `CREATE TABLE` statement that the `pubid` (publisher ID) field is flagged as the _primary key_ of the new table. This tells the database to keep an index of the column (to speed up the most frequent types of access). Most relational systems require primary key values to be unique\u2014in fact this is a fundamental requirement of the relational algebra that underlies all relational database systems."
     ]
    },
    {
     "cell_type": "markdown",
     "metadata": {},
     "source": [
      "Since no exceptions were raised it appears the creation of the `publisher` table succeded.  Now you can create a `book` table to hold the information about what the publishers publish."
     ]
    },
    {
     "cell_type": "markdown",
     "metadata": {},
     "source": [
      "Before doing that, here's a look at the exception traceback caused by ecxecuting that statement a second time, thereby trying to create an already existent database table.\n",
      "\n",
      "    curs.execute(\"\"\"CREATE TABLE publisher(\n",
      "                        pubid INT PRIMARY KEY,\n",
      "                        pubname VARCHAR(25),\n",
      "                        puburl VARCHAR(125))\"\"\")\n",
      "    ---------------------------------------------------------------------------\n",
      "    OperationalError                          Traceback (most recent call last)\n",
      "    <ipython-input-5-f6599eb593b6> in <module>()\n",
      "          2                     pubid INT PRIMARY KEY,\n",
      "          3                     pubname VARCHAR(25),\n",
      "    ----> 4                     puburl VARCHAR(125))\"\"\")\n",
      "    \n",
      "    OperationalError: table publisher already exists\n",
      "    \n",
      "    ERROR: An unexpected error occurred while tokenizing input\n",
      "    The following traceback may be corrupted or invalid\n",
      "    The error message is: ('EOF in multi-line string', (1, 40))    \n",
      "\n",
      "This is exactly what we avoided in the first place by using the `DROP TABLE IF EXISTS` statement."
     ]
    },
    {
     "cell_type": "markdown",
     "metadata": {},
     "source": [
      "The long-format message isn't that terrific: it focuses on what's going on inside SQLite rather than telling the user what has gone wrong in her terms. Fortunately the `sqlite3` driver routines are more helpful, reminding you that you already created this table."
     ]
    },
    {
     "cell_type": "markdown",
     "metadata": {},
     "source": [
      "Each row of the `book` table will have will have a 12-digit ISBN, a title of up to 60 characters, a publisher number (that refers to a publisher whose data is stored in the `publisher_` table) and a publication year.\n",
      "\n",
      "The _relationship_ between books and publishers is created by the `FOREIGN KEY` clause. Most database systems will enforce what is called _referential integrity_\u2014in other words, it will raise some sort of exception if you try and store a value in the `bkpubid` "
     ]
    },
    {
     "cell_type": "code",
     "collapsed": false,
     "input": [
      "curs.execute(\"DROP TABLE IF EXISTS book\")\n",
      "curs.execute(\"\"\"\\\n",
      "                CREATE TABLE book (\n",
      "                    bkisbn CHAR(12) PRIMARY KEY,\n",
      "                    bktitle VARCHAR(60),\n",
      "                    bkpubid INT FOREIGN KEY REFERENCES publisher(pubid),\n",
      "                    bkyear INT)\"\"\")"
     ],
     "language": "python",
     "metadata": {},
     "outputs": []
    },
    {
     "cell_type": "markdown",
     "metadata": {},
     "source": [
      "Congratulations, you just created a book table!"
     ]
    },
    {
     "cell_type": "code",
     "collapsed": false,
     "input": [
      "curs.execute(\"\"\"\\\n",
      "ALTER TABLE BOOK\n",
      "      ADD CONSTRAINT bk_pk\n",
      "      PRIMARY KEY(bkisbn)\"\"\")"
     ],
     "language": "python",
     "metadata": {},
     "outputs": []
    },
    {
     "cell_type": "code",
     "collapsed": false,
     "input": [],
     "language": "python",
     "metadata": {},
     "outputs": []
    }
   ],
   "metadata": {}
  }
 ]
}