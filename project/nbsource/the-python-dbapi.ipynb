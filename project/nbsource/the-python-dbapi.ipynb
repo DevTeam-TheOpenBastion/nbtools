{
 "metadata": {
  "name": ""
 },
 "nbformat": 3,
 "nbformat_minor": 0,
 "worksheets": [
  {
   "cells": [
    {
     "cell_type": "markdown",
     "metadata": {},
     "source": [
      "Source notebook for lesson \u201cThe Python DBAPI\u201d. Source located in `nbsource/the-python-dbapi.ipynb`. Created automatically by sanity on 2014-03-05 at 04:03:52.079092."
     ]
    }
   ],
   "metadata": {}
  }
 ]
}