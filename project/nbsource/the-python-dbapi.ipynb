{
 "metadata": {
  "name": ""
 },
 "nbformat": 3,
 "nbformat_minor": 0,
 "worksheets": [
  {
   "cells": [
    {
     "cell_type": "markdown",
     "metadata": {},
     "source": [
      "#### Working Copy: O'Reilly Intermediate Python Video Series\n",
      "##### The Python DBAPI \n",
      "Source located in `nbsource/the-python-dbapi.ipynb`. Automatically rendered from `data/templates/source_base.ipynb` by __sanity__ on 2014-03-07 at 12:22:59.156373."
     ]
    },
    {
     "cell_type": "markdown",
     "metadata": {},
     "source": [
      "Relational databases use a language called the Structured Query Language (abbreviated as SQL) to define data structures, and store and retrieve information. SQL is different from most computer languages in that it is declarative\u2014you don't tell the database how to produce what you want, you simply describe what you want it to do and the database works out how best to do it.\n",
      "\n",
      "Database systems are often built as \"client/server\" systems\u2014your program is a client (maybe one of many) of a server program that runs as a separate process, or maybe even on an entirely separate \"database server\" computer. This is not, however, a requirement and Python includes the `sqlite3` module, which creates and uses databases stored in single disk files on your local disk. This is a very convenient way to start learning about databases."
     ]
    },
    {
     "cell_type": "markdown",
     "metadata": {},
     "source": []
    }
   ],
   "metadata": {}
  }
 ]
}