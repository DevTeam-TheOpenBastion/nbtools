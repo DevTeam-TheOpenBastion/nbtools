{
 "metadata": {
  "name": ""
 },
 "nbformat": 3,
 "nbformat_minor": 0,
 "worksheets": [
  {
   "cells": [
    {
     "cell_type": "heading",
     "level": 1,
     "metadata": {},
     "source": [
      "<img src=\"files/images/title_graphic.png\" />\n",
      "||| WORKING COPY ||| Iterables vs. Iterators"
     ]
    },
    {
     "cell_type": "raw",
     "metadata": {},
     "source": [
      "#!content nbsource/iterables-vs-iterators.ipynb"
     ]
    },
    {
     "cell_type": "markdown",
     "metadata": {},
     "source": [
      "This document was created on 2014-03-25 at 13:50:06.243908."
     ]
    }
   ],
   "metadata": {}
  }
 ]
}