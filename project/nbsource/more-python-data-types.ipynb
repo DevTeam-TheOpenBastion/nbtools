{
 "metadata": {
  "name": ""
 },
 "nbformat": 3,
 "nbformat_minor": 0,
 "worksheets": [
  {
   "cells": [
    {
     "cell_type": "markdown",
     "metadata": {},
     "source": [
      "Source notebook for lesson \u201cMore Python Data Types\u201d. Source located in `nbsource/more-python-data-types.ipynb`. Created automatically by sanity on 2014-03-05 at 19:25:39.767126."
     ]
    }
   ],
   "metadata": {}
  }
 ]
}