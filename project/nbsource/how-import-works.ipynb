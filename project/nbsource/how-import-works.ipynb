{
 "metadata": {
  "name": ""
 },
 "nbformat": 3,
 "nbformat_minor": 0,
 "worksheets": [
  {
   "cells": [
    {
     "cell_type": "markdown",
     "metadata": {},
     "source": [
      "Source notebook for lesson \u201cHow import Works\u201d. Source located in `nbsource/how-import-works.ipynb`. Created automatically by sanity on 2014-03-05 at 21:29:53.316124."
     ]
    }
   ],
   "metadata": {}
  }
 ]
}