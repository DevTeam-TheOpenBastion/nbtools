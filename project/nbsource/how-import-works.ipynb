{
 "metadata": {
  "name": ""
 },
 "nbformat": 3,
 "nbformat_minor": 0,
 "worksheets": [
  {
   "cells": [
    {
     "cell_type": "heading",
     "level": 1,
     "metadata": {},
     "source": [
      "<img src=\"files/images/title_graphic.png\" />\n",
      "||| WORKING COPY ||| How `import` Works"
     ]
    },
    {
     "cell_type": "markdown",
     "metadata": {},
     "source": [
      "This document was created on 2014-03-18 at 23:03:23.304544."
     ]
    },
    {
     "cell_type": "markdown",
     "metadata": {},
     "source": [
      "The Python import system is a versatile aid to organizing program code in a modular way.\n",
      "\n",
      "When someone starts programming it is likely that all her programs with be \"monolithic\" - everything will be in one chunk in a single file. This is acceptable for small programs, but not a maintainable strategy as projects grow in size and number.\n",
      "\n",
      "Suppose she wants to use a function that she wrote for an earlier program. If her solution is to open up the old source file, copy the routine and paste it into her new program, she is storing up trouble (you will often hear this referred to as _technical debt_). If later she makes a nifty improvement to the function she has to edit both source files to let them take advantage of the improvement.\n",
      "\n",
      "The correct approach (or one correct approach, anyway) is to extract the function into a separate _module_, a `.py` file containing code that can be imported and used by any program with access to it. In this way the task of maintenance is greatly eased: the source only has to be updated once for both programs to benefit. Learning how to split a program up into modules is something that only comes with experience, but it is easy to make a start."
     ]
    },
    {
     "cell_type": "markdown",
     "metadata": {},
     "source": [
      "The simplest way to start using imports is to make use of the standard library. As your experience grows  you will find that your knowledge of the standard library expands. It's good to read lots of code to gain that kind of experience in what modules the Python library offers and how to use them. Good modules to start with are `sys` and `os`."
     ]
    },
    {
     "cell_type": "code",
     "collapsed": false,
     "input": [
      "import sys, os"
     ],
     "language": "python",
     "metadata": {},
     "outputs": []
    },
    {
     "cell_type": "code",
     "collapsed": false,
     "input": [
      "sys.path"
     ],
     "language": "python",
     "metadata": {},
     "outputs": []
    },
    {
     "cell_type": "code",
     "collapsed": false,
     "input": [
      "for path in sys.path:\n",
      "    if os.path.isdir(path):\n",
      "        !echo $path; cd $path; find . -name \\*.py -or -name \\*.so"
     ],
     "language": "python",
     "metadata": {},
     "outputs": []
    },
    {
     "cell_type": "markdown",
     "metadata": {},
     "source": []
    },
    {
     "cell_type": "code",
     "collapsed": false,
     "input": [],
     "language": "python",
     "metadata": {},
     "outputs": []
    }
   ],
   "metadata": {}
  }
 ]
}