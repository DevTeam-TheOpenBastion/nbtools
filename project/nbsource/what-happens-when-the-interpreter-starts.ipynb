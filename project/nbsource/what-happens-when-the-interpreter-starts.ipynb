{
 "metadata": {
  "name": ""
 },
 "nbformat": 3,
 "nbformat_minor": 0,
 "worksheets": [
  {
   "cells": [
    {
     "cell_type": "heading",
     "level": 1,
     "metadata": {},
     "source": [
      "<img src=\"files/images/title_graphic.png\" />\n",
      "||| WORKING COPY ||| What Happens When the Interpreter Starts"
     ]
    },
    {
     "cell_type": "markdown",
     "metadata": {},
     "source": [
      "This document was created on 2014-03-15 at 01:03:55.356290."
     ]
    },
    {
     "cell_type": "markdown",
     "metadata": {},
     "source": [
      "    Python 3.3.2 (default, Nov 19 2013, 03:15:33)\n",
      "    [GCC 4.2.1 Compatible Apple LLVM 4.2 (clang-425.0.28)] on darwin\n",
      "    Type \"help\", \"copyright\", \"credits\" or \"license\" for more information.\n",
      "    >>> dir()\n",
      "    ['__builtins__', '__doc__', '__loader__', '__name__', '__package__']\n",
      "    >>>"
     ]
    }
   ],
   "metadata": {}
  }
 ]
}