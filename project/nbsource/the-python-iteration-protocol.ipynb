{
 "metadata": {
  "name": ""
 },
 "nbformat": 3,
 "nbformat_minor": 0,
 "worksheets": [
  {
   "cells": [
    {
     "cell_type": "markdown",
     "metadata": {},
     "source": [
      "#### Working Copy: O'Reilly Intermediate Python Video Series\n",
      "##### The Python Iteration Protocol \n",
      "Source located in `nbsource/the-python-iteration-protocol.ipynb`. Automatically rendered from `data/templates/source_base.ipynb` by __sanity__ on 2014-03-07 at 05:29:05.675535."
     ]
    },
    {
     "cell_type": "heading",
     "level": 3,
     "metadata": {},
     "source": [
      "Iteration Protocols"
     ]
    },
    {
     "cell_type": "markdown",
     "metadata": {},
     "source": [
      "The interpreter used to use a very simple model for iteration, which remains available today for backward compatibity reasons (though Python objects themselves no longer use it. The approximate equivalent of an old-style loop like\n",
      "\n",
      "    for item in items:\n",
      "        do_something_with(item)\n",
      "\n",
      "would be\n",
      "\n",
      "    intern = 0\n",
      "    while True:\n",
      "        try:\n",
      "            item = items.__getitem__(intern)\n",
      "        except IndexError:\n",
      "            break\n",
      "        do_something_with(item)\n",
      "        intern += 1    \n",
      "\n",
      "We normally think of iterating over the contents of a container such as a list or a string. In fact any object that responds correctly to an iteration protocol, even this now-outmoded style, can be iterated overt. Below you can see just such a class, whose items can be iterated over.\n",
      "\n",
      "A `Repeater(x, N)` object acts under iteration just like a tuple of `N` copies of the value `x`."
     ]
    },
    {
     "cell_type": "code",
     "collapsed": false,
     "input": [
      "class Repeater(object):\n",
      "    def __init__(self, val, times):\n",
      "        self.val = val\n",
      "        self.count = times\n",
      "    def __getitem__(self, n):\n",
      "        if n >= self.count:\n",
      "            raise IndexError(\"Index exceeds defined length %d\" % n)\n",
      "        return self.val\n",
      "\n",
      "five_stars = Repeater(\"*\", 5)\n",
      "for c in five_stars:\n",
      "    print(c)\n",
      "\n",
      "three_ints = Repeater(120,3)\n",
      "for c in three_ints:\n",
      "    print(c)"
     ],
     "language": "python",
     "metadata": {},
     "outputs": [
      {
       "output_type": "stream",
       "stream": "stdout",
       "text": [
        "*\n",
        "*\n",
        "*\n",
        "*\n",
        "*\n",
        "120\n",
        "120\n",
        "120\n"
       ]
      }
     ],
     "prompt_number": 9
    },
    {
     "cell_type": "markdown",
     "metadata": {},
     "source": [
      "The interpreter calls its `__getitem__()` method with successively higher integers until the call raises a `StopIteration` exception. This is interpreted internally (_i.e._ the exception is trapped and handled, not appearing to the user) as the end of the sequence and the loop terminates normally.\n",
      "\n",
      "You can see that the same objects respond to standard indexing methods pretty much in the same way as a list would (though because the implementation is in Python the traceback is more forthcoming than usual about what's going on."
     ]
    },
    {
     "cell_type": "code",
     "collapsed": false,
     "input": [
      "three_ints[1]"
     ],
     "language": "python",
     "metadata": {},
     "outputs": [
      {
       "metadata": {},
       "output_type": "pyout",
       "prompt_number": 12,
       "text": [
        "120"
       ]
      }
     ],
     "prompt_number": 12
    },
    {
     "cell_type": "code",
     "collapsed": false,
     "input": [
      "three_ints[3]"
     ],
     "language": "python",
     "metadata": {},
     "outputs": [
      {
       "ename": "IndexError",
       "evalue": "Index exceeds defined length 3",
       "output_type": "pyerr",
       "traceback": [
        "\u001b[0;31m---------------------------------------------------------------------------\u001b[0m\n\u001b[0;31mIndexError\u001b[0m                                Traceback (most recent call last)",
        "\u001b[0;32m<ipython-input-13-ffca2d21d727>\u001b[0m in \u001b[0;36m<module>\u001b[0;34m()\u001b[0m\n\u001b[0;32m----> 1\u001b[0;31m \u001b[0mthree_ints\u001b[0m\u001b[0;34m[\u001b[0m\u001b[0;36m3\u001b[0m\u001b[0;34m]\u001b[0m\u001b[0;34m\u001b[0m\u001b[0m\n\u001b[0m",
        "\u001b[0;32m<ipython-input-9-9908940b363f>\u001b[0m in \u001b[0;36m__getitem__\u001b[0;34m(self, n)\u001b[0m\n\u001b[1;32m      5\u001b[0m     \u001b[0;32mdef\u001b[0m \u001b[0m__getitem__\u001b[0m\u001b[0;34m(\u001b[0m\u001b[0mself\u001b[0m\u001b[0;34m,\u001b[0m \u001b[0mn\u001b[0m\u001b[0;34m)\u001b[0m\u001b[0;34m:\u001b[0m\u001b[0;34m\u001b[0m\u001b[0m\n\u001b[1;32m      6\u001b[0m         \u001b[0;32mif\u001b[0m \u001b[0mn\u001b[0m \u001b[0;34m>=\u001b[0m \u001b[0mself\u001b[0m\u001b[0;34m.\u001b[0m\u001b[0mcount\u001b[0m\u001b[0;34m:\u001b[0m\u001b[0;34m\u001b[0m\u001b[0m\n\u001b[0;32m----> 7\u001b[0;31m             \u001b[0;32mraise\u001b[0m \u001b[0mIndexError\u001b[0m\u001b[0;34m(\u001b[0m\u001b[0;34m\"Index exceeds defined length %d\"\u001b[0m \u001b[0;34m%\u001b[0m \u001b[0mn\u001b[0m\u001b[0;34m)\u001b[0m\u001b[0;34m\u001b[0m\u001b[0m\n\u001b[0m\u001b[1;32m      8\u001b[0m         \u001b[0;32mreturn\u001b[0m \u001b[0mself\u001b[0m\u001b[0;34m.\u001b[0m\u001b[0mval\u001b[0m\u001b[0;34m\u001b[0m\u001b[0m\n\u001b[1;32m      9\u001b[0m \u001b[0;34m\u001b[0m\u001b[0m\n",
        "\u001b[0;31mIndexError\u001b[0m: Index exceeds defined length 3"
       ]
      }
     ],
     "prompt_number": 13
    },
    {
     "cell_type": "markdown",
     "metadata": {},
     "source": [
      "This older protocal does not extend to non-sequence containers such as the dict and the set, whose elements are not ordered. To a dict, numerical subscripts are just keys like any other rather than implying a position within a sequence. The set has no items to get, and therefore has no `__getitem__()` method at all!"
     ]
    },
    {
     "cell_type": "code",
     "collapsed": false,
     "input": [
      "\"__getitem__\" in dir(set())\n"
     ],
     "language": "python",
     "metadata": {},
     "outputs": [
      {
       "metadata": {},
       "output_type": "pyout",
       "prompt_number": 18,
       "text": [
        "False"
       ]
      }
     ],
     "prompt_number": 18
    },
    {
     "cell_type": "markdown",
     "metadata": {},
     "source": [
      "If the object `iterable` _does_ have an `__iter__()` method a loop like\n",
      "\n",
      "    for item in iterable:\n",
      "        do_something_with(item)\n",
      "\n",
      "is implemented inside the interpreter in approximately the following way.\n",
      "\n",
      "    it = iterable.__iter__()\n",
      "    while True:\n",
      "        try:\n",
      "            val = it.__next__()\n",
      "        except StopIteration:\n",
      "            break\n",
      "        do_something_with(val)"
     ]
    },
    {
     "cell_type": "markdown",
     "metadata": {},
     "source": [
      "With an `__iter__()` method present, the interpreter calls it to return some object which is expected to have a `__next__()` method. That method is then repeatedly calleds \n",
      "\n",
      "Again you observe that the exception (in the newer protocol a `StopIteration` exception must be raised to terminate iteration) never reaches the user's code, being swallowed silently as a part of the operation.\n",
      "\n",
      "Again, once you understand how the interpreter interacts with iterable items you can implement your own. Here's a class whose instances operate similarly to `Repeater` objects."
     ]
    },
    {
     "cell_type": "code",
     "collapsed": false,
     "input": [],
     "language": "python",
     "metadata": {},
     "outputs": []
    }
   ],
   "metadata": {}
  }
 ]
}