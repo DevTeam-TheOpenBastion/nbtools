{
 "metadata": {
  "name": ""
 },
 "nbformat": 3,
 "nbformat_minor": 0,
 "worksheets": [
  {
   "cells": [
    {
     "cell_type": "heading",
     "level": 1,
     "metadata": {},
     "source": [
      "<img src=\"files/images/title_graphic.png\" />\n",
      "||| WORKING COPY ||| Bytearrays and Bytestrings"
     ]
    },
    {
     "cell_type": "markdown",
     "metadata": {},
     "source": [
      "Although text is better handled as Unicode we inevitably end up communicating stream of bytes. Internally Python represents all Unicode characters using the same sized object."
     ]
    },
    {
     "cell_type": "markdown",
     "metadata": {},
     "source": [
      "Depending on how your interpreter was built it might use a 16-bit or a 32-bit representation (most interpreters use UCS-2 to conserve memory, but thhis involves certain complexities). The fixed-size format makes it very easy to compute positions within a string, but would be impossibly wasteful as the medium of communication.\n",
      "\n",
      "Ultimately, then, to transmit a Unicode string it will typically be somehow _encoded_. Both ends of a communication have to agree on which encoding will be used. The sender encodes the text to produce a string of bytes which are sent across to the reipient who must then _decode_ the stream to reproduce the Unicode string that was sent.\n",
      "\n",
      "The _`bytes`_ (sometimes called _byte strings_) and _`bytearray`_ types are designed to allow you to handle binary data, decoding in to Unicode and encoding it on output. When you read data from a network stream or a binary file the calls return sequences of bytes."
     ]
    },
    {
     "cell_type": "markdown",
     "metadata": {},
     "source": [
      "When we talk about \u201copening a file\u201d in Python we generally think about reading text, though files can also be opened in binary mode. In older version of Python both modes returned sequences of bytes, and Python's primary string type was ASCII-oriented. Nowadays reading a binary file and reading a text file return two different types of object. See what happens when you read the source of this notebook in text mode."
     ]
    },
    {
     "cell_type": "code",
     "collapsed": false,
     "input": [
      "f = open(\"bytearrays-and-bytestrings.ipynb\", \"r\")\n",
      "bs = f.read(10)\n",
      "type(bs)"
     ],
     "language": "python",
     "metadata": {},
     "outputs": [
      {
       "metadata": {},
       "output_type": "pyout",
       "prompt_number": 36,
       "text": [
        "builtins.str"
       ]
      }
     ],
     "prompt_number": 36
    },
    {
     "cell_type": "markdown",
     "metadata": {},
     "source": [
      "When we open the same file in binary mode, however, we find that the file's read methods do indeed return a bytes object."
     ]
    },
    {
     "cell_type": "code",
     "collapsed": false,
     "input": [
      "f = open(\"bytearrays-and-bytestrings.ipynb\", \"rb\")\n",
      "bs = f.read(90)\n",
      "type(bs)"
     ],
     "language": "python",
     "metadata": {},
     "outputs": [
      {
       "metadata": {},
       "output_type": "pyout",
       "prompt_number": 37,
       "text": [
        "builtins.bytes"
       ]
      }
     ],
     "prompt_number": 37
    },
    {
     "cell_type": "markdown",
     "metadata": {},
     "source": [
      "__Bytes Literals__  \n",
      "When you want to include a bytes value in your program source you can use a _bytes literal_. These are very similar to the standard string literals such as `\"this is a string\"` and `'''this is another'''`, but the opening string quote is preceded by the letter `b`. This is the same way the interpreter represents these values."
     ]
    },
    {
     "cell_type": "code",
     "collapsed": false,
     "input": [
      "bs"
     ],
     "language": "python",
     "metadata": {},
     "outputs": [
      {
       "metadata": {},
       "output_type": "pyout",
       "prompt_number": 38,
       "text": [
        "b'{\\n \"metadata\": {\\n  \"name\": \"\"\\n },\\n \"nbformat\": 3,\\n \"nbformat_minor\": 0,\\n \"worksheets\": [\\n '"
       ]
      }
     ],
     "prompt_number": 38
    },
    {
     "cell_type": "markdown",
     "metadata": {},
     "source": [
      "When your editing system is capable of handling Unicode (and the IPython Notebook certainly is) you can include Unicode characters directly in your string literals, but not in your byte strings. When representing string literals you should therefore try to restrict yourself to the ASCII character set. You can include non-ASCII values by using hexadecimal escape sequences, for example to mimicking an encoded Unicode characters."
     ]
    },
    {
     "cell_type": "code",
     "collapsed": false,
     "input": [
      "b1 = b'Please pay \\xe2\\x82\\xac9.99 at exit'\n",
      "b1.decode(\"UTF-8\")"
     ],
     "language": "python",
     "metadata": {},
     "outputs": [
      {
       "metadata": {},
       "output_type": "pyout",
       "prompt_number": 39,
       "text": [
        "'Please pay \u20ac9.99 at exit'"
       ]
      }
     ],
     "prompt_number": 39
    },
    {
     "cell_type": "markdown",
     "metadata": {},
     "source": [
      "Trying to include a non-representable character in a bytes literal leads to trouble:\n",
      "\n",
      "    >>> b'Please pay \u20ac9.99 at exit'\n",
      "      File \"<stdin>\", line 1\n",
      "    SyntaxError: bytes can only contain ASCII literal characters.\n",
      "\n",
      "The issue here is that each character (or one-byte escape sequence) is supposed to appear in the bytestring as one byte. But there is no way to represent the Euro symbol in a single byte."
     ]
    },
    {
     "cell_type": "markdown",
     "metadata": {},
     "source": [
      "You may wonder, if you happen to remember that the euro sign is Unicode code point 0x20ac, why those bytes don't appear in `b1`. Notice the three-byte string `'\\xe2\\x82\\xac'`\u2014that is how the code point is encoded in UTF-8."
     ]
    },
    {
     "cell_type": "code",
     "collapsed": false,
     "input": [
      "hex(ord(\"\u20ac\"))"
     ],
     "language": "python",
     "metadata": {},
     "outputs": [
      {
       "metadata": {},
       "output_type": "pyout",
       "prompt_number": 40,
       "text": [
        "'0x20ac'"
       ]
      }
     ],
     "prompt_number": 40
    },
    {
     "cell_type": "markdown",
     "metadata": {},
     "source": [
      "After all this talk of ASCII and Unicode, it may surprise you to learn that indexing a byte string returns not a character but an integer!"
     ]
    },
    {
     "cell_type": "code",
     "collapsed": false,
     "input": [
      "bs[0]"
     ],
     "language": "python",
     "metadata": {},
     "outputs": [
      {
       "metadata": {},
       "output_type": "pyout",
       "prompt_number": 41,
       "text": [
        "123"
       ]
      }
     ],
     "prompt_number": 41
    },
    {
     "cell_type": "markdown",
     "metadata": {},
     "source": [
      "This is, of course, the integer representation of the first character of the file, which fortunately happens to be an ASCII character."
     ]
    },
    {
     "cell_type": "code",
     "collapsed": false,
     "input": [
      "chr(bs[0])"
     ],
     "language": "python",
     "metadata": {},
     "outputs": [
      {
       "metadata": {},
       "output_type": "pyout",
       "prompt_number": 42,
       "text": [
        "'{'"
       ]
      }
     ],
     "prompt_number": 42
    },
    {
     "cell_type": "markdown",
     "metadata": {},
     "source": [
      "So, here's an interesting question: does the source for this notebook include any non-ASCII characters (bytes whose values are \u2265 128)? It isn't too difficult to answer that question for a short file (and Notebooks shouldn't be anywhere NEAR gigabytes long: you have been warned!) if you know about `any()`, which returns True if any member of the sequence argument is True.\n",
      "\n",
      "The following expression shows there are no non-ASCII characters in the file."
     ]
    },
    {
     "cell_type": "code",
     "collapsed": false,
     "input": [
      "any((c>127) for c in open(\"bytearrays-and-bytestrings.ipynb\", \"rb\").read())"
     ],
     "language": "python",
     "metadata": {},
     "outputs": [
      {
       "metadata": {},
       "output_type": "pyout",
       "prompt_number": 45,
       "text": [
        "False"
       ]
      }
     ],
     "prompt_number": 45
    },
    {
     "cell_type": "code",
     "collapsed": false,
     "input": [],
     "language": "python",
     "metadata": {},
     "outputs": []
    }
   ],
   "metadata": {}
  }
 ]
}