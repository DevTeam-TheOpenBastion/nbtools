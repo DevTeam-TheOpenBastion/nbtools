{
 "metadata": {
  "name": ""
 },
 "nbformat": 3,
 "nbformat_minor": 0,
 "worksheets": [
  {
   "cells": [
    {
     "cell_type": "heading",
     "level": 1,
     "metadata": {},
     "source": [
      "<img src=\"files/images/title_graphic.png\" />\n",
      "||| WORKING COPY ||| Bytearrays and Bytestrings"
     ]
    },
    {
     "cell_type": "markdown",
     "metadata": {},
     "source": [
      "Although text is better handled as Unicode we inevitably end up communicating stream of bytes. Internally Python represents all Unicode characters using the same sized object."
     ]
    },
    {
     "cell_type": "markdown",
     "metadata": {},
     "source": [
      "Depending on how your interpreter was built it might use a 16-bit or a 32-bit representation (most interpreters use UCS-2 to conserve memory, but thhis involves certain complexities). The fixed-size format makes it very easy to compute positions within a string, but would be impossibly wasteful as the medium of communication.\n",
      "\n",
      "Ultimately, then, to transmit a Unicode string it will typically be somehow _encoded_. Both ends of a communication have to agree on which encoding will be used. The sender encodes the text to produce a string of bytes which are sent across to the reipient who must then _decode_ the stream to reproduce the Unicode string that was sent.\n",
      "\n",
      "The _`bytes`_ (sometimes called _byte strings_) and _`bytearray`_ types are designed to allow you to handle binary data, decoding in to Unicode and encoding it on output. When you read data from a network stream or a binary file the calls return sequences of bytes."
     ]
    },
    {
     "cell_type": "markdown",
     "metadata": {},
     "source": [
      "When we talk about \u201copening a file\u201d in Python we generally think about reading text, though files can also be opened in binary mode. In older version of Python both modes returned sequences of bytes, and Python's primary string type was ASCII-oriented. Nowadays reading a binary file and reading a text file return two different types of object."
     ]
    },
    {
     "cell_type": "code",
     "collapsed": false,
     "input": [
      "f = open(\"bytearrays-and-bytestrings.ipynb\", \"r\")\n",
      "bs = f.read(10)\n",
      "type(bs)"
     ],
     "language": "python",
     "metadata": {},
     "outputs": [
      {
       "metadata": {},
       "output_type": "pyout",
       "prompt_number": 24,
       "text": [
        "builtins.str"
       ]
      }
     ],
     "prompt_number": 24
    },
    {
     "cell_type": "markdown",
     "metadata": {},
     "source": [
      "When we open the source of this notebook in binary mode we find that the file's read methods do indeed return a bytes object."
     ]
    },
    {
     "cell_type": "code",
     "collapsed": false,
     "input": [
      "f = open(\"bytearrays-and-bytestrings.ipynb\", \"rb\")\n",
      "bs = f.read(10)\n",
      "type(bs)"
     ],
     "language": "python",
     "metadata": {},
     "outputs": [
      {
       "metadata": {},
       "output_type": "pyout",
       "prompt_number": 12,
       "text": [
        "builtins.bytes"
       ]
      }
     ],
     "prompt_number": 12
    },
    {
     "cell_type": "markdown",
     "metadata": {},
     "source": [
      "You can write a bytes literal in the same way that you do a string, but preceding the opening string quote with the letter `b`. The interpreter represents these values the same way."
     ]
    },
    {
     "cell_type": "code",
     "collapsed": false,
     "input": [
      "bs"
     ],
     "language": "python",
     "metadata": {},
     "outputs": [
      {
       "metadata": {},
       "output_type": "pyout",
       "prompt_number": 13,
       "text": [
        "b'{\\n \"metada'"
       ]
      }
     ],
     "prompt_number": 13
    },
    {
     "cell_type": "markdown",
     "metadata": {},
     "source": [
      "When your editing system is capable of handling Unicode (and the IPython Notebook certainly is) you can include Unicode characters in your strings, but not in your byte strings. When representing string literals you should therefore try to restrict yourself to the ASCII character set. You can include non-ASCII values by using hexadecimal escape sequences and mimicking the encoding of Unicode characters."
     ]
    },
    {
     "cell_type": "code",
     "collapsed": false,
     "input": [
      "b1 = b'Please pay \\xe2\\x82\\xac20 at exit'\n",
      "b1.decode(\"UTF-8\")"
     ],
     "language": "python",
     "metadata": {},
     "outputs": [
      {
       "metadata": {},
       "output_type": "pyout",
       "prompt_number": 22,
       "text": [
        "'Please pay \u20ac20 at exit'"
       ]
      }
     ],
     "prompt_number": 22
    },
    {
     "cell_type": "code",
     "collapsed": false,
     "input": [],
     "language": "python",
     "metadata": {},
     "outputs": [
      {
       "metadata": {},
       "output_type": "pyout",
       "prompt_number": 21,
       "text": [
        "b'That will be \\xe2\\x82\\xac200, please'"
       ]
      }
     ],
     "prompt_number": 21
    },
    {
     "cell_type": "markdown",
     "metadata": {},
     "source": [
      "Trying to include a non-representable character in a bytes literal leads to trouble:\n",
      "\n",
      "    >>> b'Please pay \u20ac20 at exit'\n",
      "      File \"<stdin>\", line 1\n",
      "    SyntaxError: bytes can only contain ASCII literal characters.\n",
      "\n",
      "The issue here is that each character (or one-byte escape sequence) is supposed to appear in the bytestring as one byte. But there is no way to represent the Euro symbol in a single byte."
     ]
    },
    {
     "cell_type": "markdown",
     "metadata": {},
     "source": [
      "After all this talk of ASCII and Unicode, it may surprise you to learn that indexing a byte string returns not a character but an integer!"
     ]
    },
    {
     "cell_type": "code",
     "collapsed": false,
     "input": [
      "bs[0]"
     ],
     "language": "python",
     "metadata": {},
     "outputs": [
      {
       "metadata": {},
       "output_type": "pyout",
       "prompt_number": 9,
       "text": [
        "123"
       ]
      }
     ],
     "prompt_number": 9
    },
    {
     "cell_type": "markdown",
     "metadata": {},
     "source": [
      "This is, of course, the integer representation of the first character of the file, chich fortunately happens to be an ASCII character."
     ]
    },
    {
     "cell_type": "code",
     "collapsed": false,
     "input": [
      "chr(bs[0])"
     ],
     "language": "python",
     "metadata": {},
     "outputs": [
      {
       "metadata": {},
       "output_type": "pyout",
       "prompt_number": 10,
       "text": [
        "'{'"
       ]
      }
     ],
     "prompt_number": 10
    },
    {
     "cell_type": "markdown",
     "metadata": {},
     "source": []
    }
   ],
   "metadata": {}
  }
 ]
}