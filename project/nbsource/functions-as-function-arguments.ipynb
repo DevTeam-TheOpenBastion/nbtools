{
 "metadata": {
  "name": ""
 },
 "nbformat": 3,
 "nbformat_minor": 0,
 "worksheets": [
  {
   "cells": [
    {
     "cell_type": "markdown",
     "metadata": {},
     "source": [
      "#### PRE-RELEASE REVIEW: O'Reilly Intermediate Python Video Series\n",
      "#### Topic: Functions as Function Arguments\n",
      "Source located in `nbsource/functions-as-function-arguments.ipynb`. Automatically rendered from `UNKNOWN` on 2014-03-21 at 10:21:36.572700.\n",
      "#### AUTOMATICALLY GENERATED TEST NOTEBOOK - CHANGES WILL BE LOST\n",
      "#### To TEST this Notebook<br />1. select Cell | Run All, or step through with Shift/Enter<br />2. Notebook turns pink when testing starts<br />3. It turns white when the it runs to completion.<br />4. Please check the executed notebook for clarity and correctness.<br />Please [raise an issue](https://github.com/holdenweb/intermediate-python/issues) about anything you don't understand - by all means attach a saved copy of the notebook to add explanations or questions. Also please let us know about stuff you want to see covered under any heading in the outline.\n",
      "#### Your comments on the content are also welcome, particularly when [reported as issues](https://github.com/holdenweb/intermediate-python/issues)"
     ]
    },
    {
     "cell_type": "markdown",
     "metadata": {},
     "source": [
      "<img src=\"https://dl.dropboxusercontent.com/u/6117375/intermediate-notebooks/title_graphic.png\" />\n",
      "||| WORKING COPY ||| Functions as Function Arguments"
     ]
    },
    {
     "cell_type": "markdown",
     "metadata": {},
     "source": [
      "##Function Arguments"
     ]
    },
    {
     "cell_type": "markdown",
     "metadata": {},
     "source": [
      "The `format()` method, like all Python functions, can be called with two types of argument. The first type, and the one you are most familiar with, is called positional, because it is identified by the position it occupies in the argument list. The second type is called keyword; it's preceded by a name and an equals sign.\n",
      "\n",
      "If a call has any positional arguments, they must always appear before any keyword arguments. Thus, `\"...\".format(a, b, k1=c, k2=d)` is legal, but `\"...\".format(k1=c, k2=d, a, b)` is not (it will be flagged as a syntax error by the interpreter).\n",
      "\n",
      "The arguments to the `format()` method call are the values to be formatted. The format string on which the method is called specifies how the values are to be represented, by including replacement fields. Other text in the format string (that does not appear between curly brackets) is simply copied to the output literally."
     ]
    },
    {
     "cell_type": "markdown",
     "metadata": {},
     "source": [
      "__Note__: To include actual curly brackets in the output, simply put two curly brackets together, {{ or }}. These doubled curly brackets can never occur in a replacement field, and so they are treated specially."
     ]
    },
    {
     "cell_type": "markdown",
     "metadata": {},
     "source": [
      "###Field Names"
     ]
    },
    {
     "cell_type": "markdown",
     "metadata": {},
     "source": [
      "The first part of the replacement field, immediately following the opening curly bracket, is the field name. This tells the formatting engine which value is to be formatted. The field name begins with either a number, which specifies a positional argument to the `format()` method, or a name, which specifies a named argument. This can be followed by extra information that allows you to index the selected argument (which will presumably be an indexable object such as a list, tuple, or dict) or access one of its attributes."
     ]
    },
    {
     "cell_type": "markdown",
     "metadata": {},
     "source": [
      "These features alone can get you pretty far. Let's experiment now and get more comfortable programming by writing a slightly unusual program. Usually we expect to provide variable data to a program and format its results in a standard way. This time we'll provide you with standard data and let you enter format specifications that will select specific elements for display."
     ]
    },
    {
     "cell_type": "code",
     "collapsed": false,
     "input": [
      "i = 42\n",
      "r = 31.97\n",
      "c = 2.2 + 3.3j\n",
      "s = \"String\"\n",
      "lst = [\"zero\", \"one\", \"two\", \"three\", \"four\", \"five\"]\n",
      "dct = {\"Jim\": \"Dandy\",\n",
      "     \"Stella\": \"DuBois\",\n",
      "     1: \"integer\"}"
     ],
     "language": "python",
     "metadata": {},
     "outputs": []
    },
    {
     "cell_type": "code",
     "collapsed": false,
     "input": [
      "while True:\n",
      "    fmt = input(\"Format string: \")            \n",
      "    if not fmt:\n",
      "        break\n",
      "    fms = \"{\"+fmt+\"}\"\n",
      "    print(\"Format:\", fms, \"output:\", fms.format(i, r, c, s, e=lst, f=dct))"
     ],
     "language": "python",
     "metadata": {},
     "outputs": []
    },
    {
     "cell_type": "code",
     "collapsed": false,
     "input": [],
     "language": "python",
     "metadata": {},
     "outputs": []
    },
    {
     "cell_type": "code",
     "collapsed": false,
     "input": [],
     "language": "python",
     "metadata": {},
     "outputs": []
    }
   ],
   "metadata": {}
  }
 ]
}