{
 "metadata": {
  "name": ""
 },
 "nbformat": 3,
 "nbformat_minor": 0,
 "worksheets": [
  {
   "cells": [
    {
     "cell_type": "markdown",
     "metadata": {},
     "source": [
      "#### PRE-RELEASE REVIEW: O'Reilly Intermediate Python Video Series\n",
      "#### Topic: Reading and Writing Files\n",
      "Source located in `nbsource/reading-and-writing-files.ipynb`. Automatically rendered from `UNKNOWN` on 2014-03-21 at 10:21:36.572700.\n",
      "#### AUTOMATICALLY GENERATED TEST NOTEBOOK - CHANGES WILL BE LOST\n",
      "#### To TEST this Notebook<br />1. select Cell | Run All, or step through with Shift/Enter<br />2. Notebook turns pink when testing starts<br />3. It turns white when the it runs to completion.<br />4. Please check the executed notebook for clarity and correctness.<br />Please [raise an issue](https://github.com/holdenweb/intermediate-python/issues) about anything you don't understand - by all means attach a saved copy of the notebook to add explanations or questions. Also please let us know about stuff you want to see covered under any heading in the outline.\n",
      "#### Your comments on the content are also welcome, particularly when [reported as issues](https://github.com/holdenweb/intermediate-python/issues)"
     ]
    },
    {
     "cell_type": "markdown",
     "metadata": {},
     "source": [
      "<img src=\"https://dl.dropboxusercontent.com/u/6117375/intermediate-notebooks/title_graphic.png\" />\n",
      "||| WORKING COPY ||| Mock Objects"
     ]
    },
    {
     "cell_type": "markdown",
     "metadata": {},
     "source": [
      "This document was created on 2014-03-11 at 20:37:52.960796."
     ]
    },
    {
     "cell_type": "code",
     "collapsed": false,
     "input": [
      "%%file star-spangled.txt\n",
      "These\n",
      "are\n",
      "not\n",
      "the\n",
      "words\n",
      "of\n",
      "the\n",
      "star\n",
      "spangled\n",
      "banner"
     ],
     "language": "python",
     "metadata": {},
     "outputs": []
    },
    {
     "cell_type": "code",
     "collapsed": false,
     "input": [
      "f = open(\"star-spangled.txt\", \"r\")\n",
      "import sys\n",
      "sys.stdout.write(f.read())"
     ],
     "language": "python",
     "metadata": {},
     "outputs": []
    },
    {
     "cell_type": "code",
     "collapsed": false,
     "input": [
      "f = open(\"star-spangled.txt\", \"r\")\n",
      "print(f.readlines())\n",
      "f"
     ],
     "language": "python",
     "metadata": {},
     "outputs": []
    },
    {
     "cell_type": "code",
     "collapsed": false,
     "input": [
      "f = open(\"star-spangled.txt\", \"rb\")\n",
      "for line in f:\n",
      "    print(line, end=\"\")"
     ],
     "language": "python",
     "metadata": {},
     "outputs": []
    },
    {
     "cell_type": "code",
     "collapsed": false,
     "input": [
      "o_f = open(\"binary.dat\", \"wb\")\n",
      "for i in range(256):\n",
      "    o_f.write(bytes([i]))\n",
      "o_f.close()"
     ],
     "language": "python",
     "metadata": {},
     "outputs": []
    },
    {
     "cell_type": "code",
     "collapsed": false,
     "input": [
      "i_f = open(\"binary.dat\", \"rb\")\n",
      "data = i_f.read(16)\n",
      "print([i for i in data])"
     ],
     "language": "python",
     "metadata": {},
     "outputs": []
    },
    {
     "cell_type": "code",
     "collapsed": false,
     "input": [
      "i_f.seek(240) # absolute seek\n",
      "data = i_f.read(16)\n",
      "print([i for i in data])"
     ],
     "language": "python",
     "metadata": {},
     "outputs": []
    },
    {
     "cell_type": "code",
     "collapsed": false,
     "input": [
      "i_f.seek(156, 0) # absolute seek\n",
      "data = i_f.read(16)\n",
      "print(type(data))\n",
      "print([i for i in data])\n",
      "i_f.tell()"
     ],
     "language": "python",
     "metadata": {},
     "outputs": []
    },
    {
     "cell_type": "code",
     "collapsed": false,
     "input": [
      "i_f.seek(-16, 1) # relative seek\n",
      "data = i_f.read(16) # reads the same bytes again\n",
      "print([i for i in data])\n",
      "i_f.tell()"
     ],
     "language": "python",
     "metadata": {},
     "outputs": []
    },
    {
     "cell_type": "code",
     "collapsed": false,
     "input": [
      "i_f.seek(-16, 2) # end-relative seek\n",
      "data = i_f.read(16)\n",
      "print([i for i in data])\n",
      "i_f.tell()"
     ],
     "language": "python",
     "metadata": {},
     "outputs": []
    },
    {
     "cell_type": "code",
     "collapsed": false,
     "input": [
      "i_f.seek(16, 2)\n",
      "data = i_f.read(16)\n",
      "print([i for i in data])\n",
      "print(i_f.tell())\n",
      "print(i_f.close())"
     ],
     "language": "python",
     "metadata": {},
     "outputs": []
    },
    {
     "cell_type": "code",
     "collapsed": false,
     "input": [
      "w_f = open(\"binary.dat\", \"r+b\")\n",
      "print(w_f.tell())\n",
      "w_f.seek(272)\n",
      "print(w_f.tell())\n",
      "data = w_f.read(16)\n",
      "print([i for i in data])\n",
      "print(w_f.tell())"
     ],
     "language": "python",
     "metadata": {},
     "outputs": []
    },
    {
     "cell_type": "code",
     "collapsed": false,
     "input": [
      "w_f"
     ],
     "language": "python",
     "metadata": {},
     "outputs": []
    },
    {
     "cell_type": "code",
     "collapsed": false,
     "input": [
      "w_f.write(bytes([i for i in range(16)]))\n",
      "print(w_f.tell())"
     ],
     "language": "python",
     "metadata": {},
     "outputs": []
    },
    {
     "cell_type": "code",
     "collapsed": false,
     "input": [
      "w_f.seek(250)\n",
      "aardvark = w_f.read(32)\n",
      "print(len(aardvark))\n",
      "print([x for x in aardvark])"
     ],
     "language": "python",
     "metadata": {},
     "outputs": []
    },
    {
     "cell_type": "code",
     "collapsed": false,
     "input": [
      "w_f.seek(512)\n",
      "w_f.write(b'\\x00')\n",
      "w_f.tell()"
     ],
     "language": "python",
     "metadata": {},
     "outputs": []
    },
    {
     "cell_type": "code",
     "collapsed": false,
     "input": [
      "w_f.seek(500)\n",
      "len(w_f.read(200))"
     ],
     "language": "python",
     "metadata": {},
     "outputs": []
    }
   ],
   "metadata": {}
  }
 ]
}