{
 "metadata": {
  "name": ""
 },
 "nbformat": 3,
 "nbformat_minor": 0,
 "worksheets": [
  {
   "cells": [
    {
     "cell_type": "markdown",
     "metadata": {},
     "source": [
      "#### PRE-RELEASE REVIEW: O'Reilly Intermediate Python Video Series\n",
      "#### Topic: Handling Filenames \n",
      "Source located in `nbsource/handling-filenames.ipynb`. Automatically rendered from `UNKNOWN` on 2014-03-21 at 10:21:36.572700.\n",
      "#### AUTOMATICALLY GENERATED TEST NOTEBOOK - CHANGES WILL BE LOST\n",
      "#### To TEST this Notebook<br />1. select Cell | Run All, or step through with Shift/Enter<br />2. Notebook turns pink when testing starts<br />3. It turns white when the it runs to completion.<br />4. Please check the executed notebook for clarity and correctness.<br />Please [raise an issue](https://github.com/holdenweb/intermediate-python/issues) about anything you don't understand - by all means attach a saved copy of the notebook to add explanations or questions. Also please let us know about stuff you want to see covered under any heading in the outline.\n",
      "#### Your comments on the content are also welcome, particularly when [reported as issues](https://github.com/holdenweb/intermediate-python/issues)"
     ]
    },
    {
     "cell_type": "heading",
     "level": 2,
     "metadata": {},
     "source": [
      "<img src=\"https://dl.dropboxusercontent.com/u/6117375/intermediate-notebooks/title_graphic.png\" />\n",
      "||| WORKING COPY ||| Handling Filenames"
     ]
    },
    {
     "cell_type": "markdown",
     "metadata": {},
     "source": [
      "Paths can be absolute or relative. An absolute path refers to the same file no matter what the current working directory, whereas a relative path is conditioned by a process's current working directory (a part of the process state).\n",
      "\n",
      "Most UNIX-like systems use the same sorts of path. Everything is rooted, and a part of the same file system, so absolute paths begin with a slash, like `/home/users/sholden`. Relative paths do not, and effectively have the path of the current working directory prepended to them.\n",
      "\n",
      "Under Windows, however, different disk drives appear as different lettered volumes and the path separator is a backslash, so paths look more like `C:\\inetpub\\wwwroot\\`. The current working directory is a combination of drive letter and path.\n",
      "\n",
      "Windows also occasionally uses what are known as _UNC paths_, which begin with a double backslash. The first component is a host, the second is a share name, and the remainder locate a file or directory within the share. Python does not deal well with UNC paths."
     ]
    },
    {
     "cell_type": "markdown",
     "metadata": {},
     "source": [
      "The `os` module is where you find the functionality to handle filenames and paths. It has a submodule (`os.path`) which is loaded dynamically when the `os` module is loaded. Normally you will just use the `os.path` module that `os` chooses for you, but should you wish to handle (say) Windows file paths on a Unix system then you can specifically import the Windows module and use its resources"
     ]
    },
    {
     "cell_type": "code",
     "collapsed": false,
     "input": [
      "import os\n",
      "print(os.getcwd())"
     ],
     "language": "python",
     "metadata": {},
     "outputs": []
    },
    {
     "cell_type": "markdown",
     "metadata": {},
     "source": [
      "So `os.getcwd()` returns the working directory path as a string."
     ]
    },
    {
     "cell_type": "code",
     "collapsed": false,
     "input": [
      "os.chdir(\"..\")\n",
      "print(os.getcwd())"
     ],
     "language": "python",
     "metadata": {},
     "outputs": []
    },
    {
     "cell_type": "code",
     "collapsed": false,
     "input": [
      "os.chdir(\"nbsource\")\n",
      "base_dir = os.getcwd()\n",
      "print(base_dir)"
     ],
     "language": "python",
     "metadata": {},
     "outputs": []
    },
    {
     "cell_type": "markdown",
     "metadata": {},
     "source": [
      "You can change the working directory, too. The first line of output shows that the change has been made, but I change it back and thereafter leave it alone. It's best not to mess too much with your process's context."
     ]
    },
    {
     "cell_type": "code",
     "collapsed": false,
     "input": [
      "from glob import glob\n",
      "print(glob(\"*.ipynb\"))"
     ],
     "language": "python",
     "metadata": {},
     "outputs": []
    },
    {
     "cell_type": "markdown",
     "metadata": {},
     "source": [
      "The `glob` module contains just one function, also called `glob()`. This allows you to produce lists of filenames using wildcard matching just like you do in your shell scripts (supposing you write shell scripts)."
     ]
    },
    {
     "cell_type": "code",
     "collapsed": false,
     "input": [
      "tfn = \"handling-filenames.ipynb\"\n",
      "os.path.exists(tfn), os.path.isdir(tfn), os.path.isfile(tfn)"
     ],
     "language": "python",
     "metadata": {},
     "outputs": []
    },
    {
     "cell_type": "markdown",
     "metadata": {},
     "source": [
      "Given a path you can find out whether the path exists, whether it's a directory and whether it's a file. in this case the chosen file does exist, is not a directory and is a file."
     ]
    },
    {
     "cell_type": "code",
     "collapsed": false,
     "input": [
      "file_path = os.path.join(\"..\", \"data\", \"templates\", \"base.ipynb\")\n",
      "file_path"
     ],
     "language": "python",
     "metadata": {},
     "outputs": []
    },
    {
     "cell_type": "markdown",
     "metadata": {},
     "source": [
      "The versatile `os.path.join()` function can be called with as many string arguments as you like. It joins them all together into a single path (using platform-appropriate directory separators)."
     ]
    },
    {
     "cell_type": "code",
     "collapsed": false,
     "input": [
      "full_path = os.path.abspath(file_path)\n",
      "full_path"
     ],
     "language": "python",
     "metadata": {},
     "outputs": []
    },
    {
     "cell_type": "markdown",
     "metadata": {},
     "source": [
      "If you happen to need to know exactly where in the file store a particular relative path points you can use `os.path.abspath()` to convert it to an absolute path."
     ]
    },
    {
     "cell_type": "code",
     "collapsed": false,
     "input": [
      "print(file_path)\n",
      "print(os.path.split(file_path))\n",
      "print(os.path.join(*os.path.split(file_path)))"
     ],
     "language": "python",
     "metadata": {},
     "outputs": []
    },
    {
     "cell_type": "markdown",
     "metadata": {},
     "source": [
      "`os.path.split` extracts the final component, removing the separator. Joining the two components back together should give you exactly the path you started with."
     ]
    },
    {
     "cell_type": "code",
     "collapsed": false,
     "input": [
      "os.path.dirname(file_path), os.path.basename(file_path)"
     ],
     "language": "python",
     "metadata": {},
     "outputs": []
    },
    {
     "cell_type": "markdown",
     "metadata": {},
     "source": [
      "You can also call for just the left-hand or right-hand elements using `os.path.dirname()` and `os.path.basename()`."
     ]
    },
    {
     "cell_type": "code",
     "collapsed": false,
     "input": [
      "dir_path, file_name = os.path.split(full_path)\n",
      "print(\"File name, extension:\", os.path.splitext(file_name))\n",
      "print(\"File path, extension:\", os.path.splitext(full_path))"
     ],
     "language": "python",
     "metadata": {},
     "outputs": []
    },
    {
     "cell_type": "markdown",
     "metadata": {},
     "source": [
      "You can use `os.path.splitext()` on either a simple file name or a path. In the latter case any directory components remain with the left-hand return value."
     ]
    },
    {
     "cell_type": "code",
     "collapsed": false,
     "input": [
      "for path in os.path.basename(full_path), \".dotfile\", \"no_extension\", \"justadot.\":\n",
      "    dir_path, file_name = os.path.split(path)\n",
      "    print(path, os.path.splitext(file_name))"
     ],
     "language": "python",
     "metadata": {},
     "outputs": []
    },
    {
     "cell_type": "markdown",
     "metadata": {},
     "source": [
      "Above we demonstrate various edge cases. Observe that in all cases the input string can be reconstructed by concatenating the two components of the result."
     ]
    },
    {
     "cell_type": "code",
     "collapsed": false,
     "input": [
      "desktop_dir = os.path.expanduser(\"~/Desktop\")\n",
      "print(\"Your desktop is at\", desktop_dir)\n",
      "print(\"Root's home directory is\", os.path.expanduser(\"~root\"))"
     ],
     "language": "python",
     "metadata": {},
     "outputs": []
    },
    {
     "cell_type": "markdown",
     "metadata": {},
     "source": [
      "The various file handling commands do not understand the _tilde_ (__~__) notation for home directories. You can expand these conventions yourself quite easily as a convenience to your users."
     ]
    },
    {
     "cell_type": "code",
     "collapsed": false,
     "input": [
      "pathlist = os.path.expandvars(\"$PATH\").split(\":\") # semicolon on Windows\n",
      "print(\"Your path is:\")\n",
      "for path in pathlist:\n",
      "    print(\"  \", path)"
     ],
     "language": "python",
     "metadata": {},
     "outputs": []
    },
    {
     "cell_type": "code",
     "collapsed": false,
     "input": [
      "os.stat(full_path)"
     ],
     "language": "python",
     "metadata": {},
     "outputs": []
    },
    {
     "cell_type": "code",
     "collapsed": false,
     "input": [
      "import time"
     ],
     "language": "python",
     "metadata": {},
     "outputs": []
    },
    {
     "cell_type": "code",
     "collapsed": false,
     "input": [
      "def newer(file1, file2):\n",
      "    file1_modification = os.stat(file1).st_mtime\n",
      "    file2_modification = os.stat(file2).st_mtime\n",
      "    return file1_modification > file2_modification\n",
      "\n",
      "r1 = os.system(\"touch /tmp/deleteme.1\")\n",
      "time.sleep(1)\n",
      "r2 = os.system(\"touch /tmp/deleteme.2\")\n",
      "\n",
      "print(newer(\"/tmp/deleteme.1\", \"/tmp/deleteme.2\"), newer(\"/tmp/deleteme.2\", \"/tmp/deleteme.1\"))"
     ],
     "language": "python",
     "metadata": {},
     "outputs": []
    },
    {
     "cell_type": "code",
     "collapsed": false,
     "input": [
      "dir_above = os.listdir(os.path.join(base_dir, \"..\"))\n",
      "print(dir_above)"
     ],
     "language": "python",
     "metadata": {},
     "outputs": []
    },
    {
     "cell_type": "code",
     "collapsed": false,
     "input": [
      "files_dirs = os.listdir(os.path.join(base_dir, \"..\"))\n",
      "for name in files_dirs:\n",
      "    path = os.path.join(base_dir, \"..\", name)\n",
      "    if os.path.isdir(path):\n",
      "        print(name+\"/\")\n",
      "    else:\n",
      "        print(name)"
     ],
     "language": "python",
     "metadata": {},
     "outputs": []
    },
    {
     "cell_type": "markdown",
     "metadata": {},
     "source": [
      "That's got to be six minutes' worth!"
     ]
    }
   ],
   "metadata": {}
  }
 ]
}