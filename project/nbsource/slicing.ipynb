{
 "metadata": {
  "name": ""
 },
 "nbformat": 3,
 "nbformat_minor": 0,
 "worksheets": [
  {
   "cells": [
    {
     "cell_type": "markdown",
     "metadata": {},
     "source": [
      "Source notebook for lesson \u201cAdvanced Slicing\u201d. Source located in `nbsource/advanced-slicing.ipynb`. Created automatically by sanity on 2014-03-05 at 04:03:51.885075."
     ]
    },
    {
     "cell_type": "markdown",
     "metadata": {},
     "source": [
      "You have seen indexing used to extract individual elements from strings, lists and tuples. Sometimes, though, you want to extract a little more than a single element, and that's where slicing comes in.\n",
      "\n",
      "Slicing uses a special syntax for the indexing expression that goes between the square brackets, and slicing any sequence always returns a sequence of the same type."
     ]
    },
    {
     "cell_type": "code",
     "collapsed": false,
     "input": [
      "s, lst, t = \"0123456789\"[:], [1, 2, 3, 4][:], ('one', 'two', 'three')\n",
      "s, lst, t"
     ],
     "language": "python",
     "metadata": {},
     "outputs": [
      {
       "metadata": {},
       "output_type": "pyout",
       "prompt_number": 1,
       "text": [
        "('0123456789', [1, 2, 3, 4], ('one', 'two', 'three'))"
       ]
      }
     ],
     "prompt_number": 1
    },
    {
     "cell_type": "markdown",
     "metadata": {},
     "source": [
      "You can see that just putting a semicolon as the subscripting expression returns the whole sequence. Sometimes it's important to know that even under these circumstance _for mutable types_ slicing returns a new object copied from the original. You can confirm this by use of Python's [`id()` built-in function](http://docs.python.org/2/library/functions.html#id).\n",
      "\n",
      "If you think about it you will realize that there is no harm in the slice using the same object as the result of the slicing operation for immutable types. Since the object cannot change, it does not matter. But a slicing operation promises you _your own copy of the data at the time the slice was taken_, which is why a new list is created even when all elements are included in the slice. If the source list later changes, your copy is insulated from those changes."
     ]
    },
    {
     "cell_type": "code",
     "collapsed": false,
     "input": [
      "id(s)==id(s[:]), id(t)==id(t[:]), id(lst)==id(lst[:])"
     ],
     "language": "python",
     "metadata": {},
     "outputs": [
      {
       "metadata": {},
       "output_type": "pyout",
       "prompt_number": 6,
       "text": [
        "(True, True, False)"
       ]
      }
     ],
     "prompt_number": 6
    },
    {
     "cell_type": "markdown",
     "metadata": {},
     "source": []
    }
   ],
   "metadata": {}
  }
 ]
}