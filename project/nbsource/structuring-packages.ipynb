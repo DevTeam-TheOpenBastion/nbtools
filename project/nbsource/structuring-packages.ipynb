{
 "metadata": {
  "name": ""
 },
 "nbformat": 3,
 "nbformat_minor": 0,
 "worksheets": [
  {
   "cells": [
    {
     "cell_type": "markdown",
     "metadata": {},
     "source": [
      "Source notebook for lesson \u201cStructuring Packages\u201d. Source located in `nbsource/structuring-packages.ipynb`. Created automatically by sanity on 2014-03-05 at 04:03:52.003177."
     ]
    }
   ],
   "metadata": {}
  }
 ]
}