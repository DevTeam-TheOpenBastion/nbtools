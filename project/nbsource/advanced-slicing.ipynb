{
 "metadata": {
  "name": ""
 },
 "nbformat": 3,
 "nbformat_minor": 0,
 "worksheets": [
  {
   "cells": [
    {
     "cell_type": "markdown",
     "metadata": {},
     "source": [
      "#### PRE-RELEASE REVIEW: O'Reilly Intermediate Python Video Series\n",
      "#### Topic: Advanced Slicing\n",
      "Source located in `---invalid---`. Automatically rendered from `UNKNOWN` on 2014-03-21 at 10:21:36.443435.\n",
      "#### AUTOMATICALLY GENERATED TEST NOTEBOOK - CHANGES WILL BE LOST\n",
      "#### To TEST this Notebook<br />1. select Cell | Run All, or step through with Shift/Enter<br />2. Notebook turns pink when testing starts<br />3. It turns white when the it runs to completion.<br />4. Please check the executed notebook for clarity and correctness.<br />Please [raise an issue](https://github.com/holdenweb/intermediate-python/issues) about anything you don't understand - by all means attach a saved copy of the notebook to add explanations or questions. Also please let us know about stuff you want to see covered under any heading in the outline.\n",
      "#### Your comments on the content are also welcome, particularly when [reported as issues](https://github.com/holdenweb/intermediate-python/issues)"
     ]
    },
    {
     "cell_type": "markdown",
     "metadata": {},
     "source": [
      "<img src=\"https://dl.dropboxusercontent.com/u/6117375/intermediate-notebooks/title_graphic.png\" />\n",
      "||| WORKING COPY ||| Tuples"
     ]
    },
    {
     "cell_type": "code",
     "collapsed": false,
     "input": [
      "clist = [1, (2, 3, 4), \"a\", \"Bright\", \"c\"]\n",
      "clist [1]"
     ],
     "language": "python",
     "metadata": {},
     "outputs": []
    },
    {
     "cell_type": "code",
     "collapsed": false,
     "input": [
      "clist[1][1]"
     ],
     "language": "python",
     "metadata": {},
     "outputs": []
    },
    {
     "cell_type": "code",
     "collapsed": false,
     "input": [
      "clist[3][1:3]"
     ],
     "language": "python",
     "metadata": {},
     "outputs": []
    },
    {
     "cell_type": "code",
     "collapsed": false,
     "input": [
      "stuff = clist[2:4]\n",
      "stuff"
     ],
     "language": "python",
     "metadata": {},
     "outputs": []
    },
    {
     "cell_type": "code",
     "collapsed": false,
     "input": [
      "stuff[0]"
     ],
     "language": "python",
     "metadata": {},
     "outputs": []
    },
    {
     "cell_type": "code",
     "collapsed": false,
     "input": [
      "\"Strings are sequences too\"[:7]"
     ],
     "language": "python",
     "metadata": {},
     "outputs": []
    },
    {
     "cell_type": "code",
     "collapsed": false,
     "input": [],
     "language": "python",
     "metadata": {},
     "outputs": []
    },
    {
     "cell_type": "code",
     "collapsed": false,
     "input": [
      "clist = [1, (2, 3, 4), \"a\", \"Bright\", \"c\"]\n",
      "clist[1] = \"Not a tuple\"\n",
      "clist"
     ],
     "language": "python",
     "metadata": {},
     "outputs": []
    },
    {
     "cell_type": "code",
     "collapsed": false,
     "input": [
      "clist[0] = 0\n",
      "clist[3] = 'b'\n",
      "clist"
     ],
     "language": "python",
     "metadata": {},
     "outputs": []
    },
    {
     "cell_type": "code",
     "collapsed": false,
     "input": [
      "clist[2:4]"
     ],
     "language": "python",
     "metadata": {},
     "outputs": []
    },
    {
     "cell_type": "code",
     "collapsed": false,
     "input": [
      "clist[2:4] = [1, 2, 3]\n",
      "clist"
     ],
     "language": "python",
     "metadata": {},
     "outputs": []
    },
    {
     "cell_type": "markdown",
     "metadata": {},
     "source": [
      "Up until now, we've just been just replacing single elements of the list. It's also possible to replace a slice. When you do that, make sure that you also assign another sequence. Any sequence will do\u2014a list, tuple, or string. If you assign a string to a slice, each character in the string becomes a new element of the list. Try experimenting with these possibilities.\n",
      "\n",
      "Because you can replace any slice of a list, you can delete the slice by assigning an empty sequence to it. But there are less labor intensive ways to replace a slice of a list. Python's del statement was designed especially for deleting things. You can use it on a single element or a slice. If you know that a list contains a certain value, but you don't know the value's index, you can use the list's remove() method to delete it from the list. If the same value occurs more than once, only the first occurrence is deleted. Let's give it a try. Type the code below as shown:"
     ]
    },
    {
     "cell_type": "code",
     "collapsed": false,
     "input": [
      "dlist = ['a', 'b', 'c', '1', '2', 1, 2, 3]\n",
      "dlist[6]"
     ],
     "language": "python",
     "metadata": {},
     "outputs": []
    },
    {
     "cell_type": "code",
     "collapsed": false,
     "input": [
      "del dlist[6]\n",
      "dlist"
     ],
     "language": "python",
     "metadata": {},
     "outputs": []
    },
    {
     "cell_type": "code",
     "collapsed": false,
     "input": [
      "dlist[:3]"
     ],
     "language": "python",
     "metadata": {},
     "outputs": []
    },
    {
     "cell_type": "code",
     "collapsed": false,
     "input": [
      "del dlist[:3]\n",
      "dlist"
     ],
     "language": "python",
     "metadata": {},
     "outputs": []
    },
    {
     "cell_type": "code",
     "collapsed": false,
     "input": [
      "dlist.remove(1)\n",
      "dlist"
     ],
     "language": "python",
     "metadata": {},
     "outputs": []
    },
    {
     "cell_type": "markdown",
     "metadata": {},
     "source": [
      "__Slices with a Stride: Skipping Sequences__\n",
      "\n",
      "A slice specifies a subsequence of a sequence. Now let's say you don't want to include every element, but instead you want to use every second or third element? The easiest way to do this would be to use a third component of the slice specification: the stride. The stride specifies how many elements to skip in the slice before extracting the next element. The stride is separated from the first two components with a colon.\n",
      "\n",
      "When you specify only two slice components, by default the stride is 1; it takes every element in the slice. A stride of 2 takes every second element, and so on. Stride values can be negative as well as positive. Slicing always works by setting the index to the first slicing component and then increasing the index by the stride value, until the index reaches or goes past the second slicing component. When the stride is negative, the first slicing component must be higher than the second."
     ]
    },
    {
     "cell_type": "code",
     "collapsed": false,
     "input": [
      "alf = \"abcdefghijklmnopqrstuvwxyz\"\n",
      "alf[2:13]"
     ],
     "language": "python",
     "metadata": {},
     "outputs": []
    },
    {
     "cell_type": "code",
     "collapsed": false,
     "input": [
      "alf[2:13:2]"
     ],
     "language": "python",
     "metadata": {},
     "outputs": []
    },
    {
     "cell_type": "code",
     "collapsed": false,
     "input": [
      "alf[2:13:-2]"
     ],
     "language": "python",
     "metadata": {},
     "outputs": []
    },
    {
     "cell_type": "code",
     "collapsed": false,
     "input": [
      "alf[13:2:-2]"
     ],
     "language": "python",
     "metadata": {},
     "outputs": []
    },
    {
     "cell_type": "code",
     "collapsed": false,
     "input": [
      "alf[13:2]"
     ],
     "language": "python",
     "metadata": {},
     "outputs": []
    },
    {
     "cell_type": "code",
     "collapsed": false,
     "input": [
      "alf[::-1]"
     ],
     "language": "python",
     "metadata": {},
     "outputs": []
    },
    {
     "cell_type": "markdown",
     "metadata": {},
     "source": [
      "One way to get the reverse of a sequence is to slice the whole thing by omitting the first and second slice components and then use a stride of -1. So, if you want to replace a list with its reverse, rather than the above, try:"
     ]
    },
    {
     "cell_type": "code",
     "collapsed": false,
     "input": [
      "alf.reverse()"
     ],
     "language": "python",
     "metadata": {},
     "outputs": []
    },
    {
     "cell_type": "code",
     "collapsed": false,
     "input": [],
     "language": "python",
     "metadata": {},
     "outputs": []
    }
   ],
   "metadata": {}
  }
 ]
}