{
 "metadata": {
  "name": ""
 },
 "nbformat": 3,
 "nbformat_minor": 0,
 "worksheets": [
  {
   "cells": [
    {
     "cell_type": "markdown",
     "metadata": {},
     "source": [
      "#### Working Copy: O'Reilly Intermediate Python Video Series\n",
      "##### {{ title }} \n",
      "Source located in `{{ src_file }}`. Automatically rendered from `{{ template }}` by __sanity__ on {{ date }} at {{ time}}.\n",
      "## Don't Edit This File!\n",
      "## Automatically produced from {{ src_file }}.\n",
      "## Hit Shift/Enter twice to change backround color. Notebook should run to completion."
     ]
    },
    {
     "cell_type": "code",
     "collapsed": false,
     "input": [
      "from IPython.display import Javascript\n",
      "Javascript(\"\"\"$(\"body\").css(\"background\", \"#fff8f8\")\"\"\")"
     ],
     "language": "python",
     "metadata": {},
     "outputs": [
      {
       "javascript": [
        "$(\"body\").css(\"background\", \"#fff8f8\")"
       ],
       "metadata": {},
       "output_type": "pyout",
       "prompt_number": 2,
       "text": [
        "<IPython.core.display.Javascript at 0x107fd9e10>"
       ]
      }
     ],
     "prompt_number": 2
    },
    {
     "cell_type": "code",
     "collapsed": false,
     "input": [],
     "language": "python",
     "metadata": {},
     "outputs": []
    }
   ],
   "metadata": {}
  }
 ]
}