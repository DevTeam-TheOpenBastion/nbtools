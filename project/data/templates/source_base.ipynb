{
 "metadata": {
  "name": ""
 },
 "nbformat": 3,
 "nbformat_minor": 0,
 "worksheets": [
  {
   "cells": [
    {
     "cell_type": "markdown",
     "metadata": {},
     "source": [
      "#### PRE-RELEASE REVIEW: O'Reilly Intermediate Python Video Series\n",
      "#### Topic: {{ title }} \n",
      "Source located in `{{ src_file }}`. Automatically rendered from `{{ template }}` on {{ date }} at {{ time}}.\n",
      "#### PYTHON 3 TEST NOTEBOOK\n",
      "#### To TEST this Notebook<br />1. select Cell | Run All, or step through with Shift/Enter<br />2. Please check the executed notebook for clarity and correctness, either as you go or after execution.<br />Note that some cells are designed to produce exception tracebacks. Sometimes this can halt execution. If anything isn't obvious _[please raise an issue](https://github.com/holdenweb/intermediate-python/issues)_ - about anything you don't understand - and by all means attach a saved and downloaded copy of the notebook to add explanations or questions. Also please let us know about stuff you want to see covered under any heading in the `outline.txt` file.\n",
      "#### Your comments on the content are also welcome, particularly when [reported as issues](https://github.com/holdenweb/intermediate-python/issues)\n",
      "\n",
      "Please note that at present pull requests may not be accepted unless notebooks have been stored immediately after clearing all cell outputs. The notebook is a complex format, and should be stored in a canonical form."
     ]
    },
    {
     "cell_type": "raw",
     "metadata": {},
     "source": [
      "#!content nbsource/{{ slug }}.ipynb"
     ]
    }
   ],
   "metadata": {}
  }
 ]
}