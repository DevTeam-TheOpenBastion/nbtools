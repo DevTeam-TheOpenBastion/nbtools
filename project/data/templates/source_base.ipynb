{
 "metadata": {
  "name": ""
 },
 "nbformat": 3,
 "nbformat_minor": 0,
 "worksheets": [
  {
   "cells": [
    {
     "cell_type": "code",
     "collapsed": false,
     "input": [
      "from IPython.display import Javascript\n",
      "Javascript(\"\"\"$(\"body\").css(\"background\", \"#fff8f8\")\"\"\")"
     ],
     "language": "python",
     "metadata": {},
     "outputs": []
    },
    {
     "cell_type": "markdown",
     "metadata": {},
     "source": [
      "#### PRE-RELEASE REVIEW: O'Reilly Intermediate Python Video Series\n",
      "#### Topic: {{ title }} \n",
      "Source located in `{{ src_file }}`. Automatically rendered from `{{ template }}` by __{{ program_release }}__ on {{ date }} at {{ time}}.\n",
      "#### AUTOMATICALLY GENERATED TEST NOTEBOOK - CHANGES WILL BE LOST\n",
      "#### To TEST this Notebook<br />1. select Cell | Run All, or step through with Shift/Enter<br />2. Notebook turns pink when testing starts<br />3. It turns white when the it runs to completion.<br />4. Please check the executed notebook for clarity and correctness.<br />Please [raise an issue](https://github.com/holdenweb/scam/issues) about anything you don't understand\n",
      "#### Your comments on the content are also welcome, particularly when [reported as issues](https://github.com/holdenweb/scam/issues)"
     ]
    },
    {
     "cell_type": "raw",
     "metadata": {},
     "source": [
      "#!content nbsource/{{ slug }}.ipynb"
     ]
    },
    {
     "cell_type": "code",
     "collapsed": false,
     "input": [
      "from IPython.display import Javascript\n",
      "Javascript(\"\"\"$(\"body\").css(\"background\", \"#ffffff\")\"\"\")"
     ],
     "language": "python",
     "metadata": {},
     "outputs": []
    }
   ],
   "metadata": {}
  }
 ]
}