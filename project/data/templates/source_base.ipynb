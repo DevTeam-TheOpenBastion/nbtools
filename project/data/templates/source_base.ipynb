{
 "metadata": {
  "name": ""
 },
 "nbformat": 3,
 "nbformat_minor": 0,
 "worksheets": [
  {
   "cells": [
    {
     "cell_type": "code",
     "collapsed": false,
     "input": [
      "from IPython.display import Javascript\n",
      "Javascript(\"\"\"$(\"body\").css(\"background\", \"#fff8f8\")\"\"\")"
     ],
     "language": "python",
     "metadata": {},
     "outputs": []
    },
    {
     "cell_type": "markdown",
     "metadata": {},
     "source": [
      "#### Working Copy: O'Reilly Intermediate Python Video Series\n",
      "##### Section {{ title }} \n",
      "Source located in `{{ src_file }}`. Automatically rendered from `{{ template }}` by __sanity__ on {{ date }} at {{ time}}.\n",
      "## AUTOMATICALLY GENERATED TEST NOTEBOOK - CHANGES WILL BE LOST\n",
      "## TEST this Notebook by<br />1. selecting Cell | Run All<br />2. Notebook turns pink when testing starts<br />3. If it turns white when the kernel stops then it runs to completion.<br />4. Otherwise, debug and [raise an issue, please](https://github.com/holdenweb/scam/issues)\n",
      "### Your comments on the content are also welcome when [reported as an issue](https://github.com/holdenweb/scam/issues)"
     ]
    },
    {
     "cell_type": "raw",
     "metadata": {},
     "source": [
      "#!content nbsource/{{ slug }}.ipynb"
     ]
    },
    {
     "cell_type": "code",
     "collapsed": false,
     "input": [
      "from IPython.display import Javascript\n",
      "Javascript(\"\"\"$(\"body\").css(\"background\", \"#ffffff\")\"\"\")"
     ],
     "language": "python",
     "metadata": {},
     "outputs": []
    }
   ],
   "metadata": {}
  }
 ]
}