{
 "metadata": {
  "name": ""
 },
 "nbformat": 3,
 "nbformat_minor": 0,
 "worksheets": [
  {
   "cells": [
    {
     "cell_type": "markdown",
     "metadata": {},
     "source": [
      "#### Working Copy: O'Reilly Intermediate Python Video Series\n",
      "##### {{ title }} \n",
      "Source located in `{{ src_file }}`. Automatically rendered from `{{ template }}` by __sanity__ on {{ date }} at {{ time}}."
     ]
    }
   ],
   "metadata": {}
  }
 ]
}